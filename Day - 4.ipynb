{
 "cells": [
  {
   "cell_type": "markdown",
   "id": "a448d45e",
   "metadata": {},
   "source": [
    "Day 4 - Strings\n",
    "=======\n",
    "\n",
    "Text is a string data type. Any data type written as text is a string. Any data under single, double, or triple quotes are strings. There are different string methods and built-in functions to deal with string data types. To check the length of a string, use the `len()` method.\n"
   ]
  },
  {
   "cell_type": "code",
   "execution_count": 1,
   "id": "c16af430",
   "metadata": {},
   "outputs": [
    {
     "name": "stdout",
     "output_type": "stream",
     "text": [
      "P\n",
      "1\n",
      "Hello, World!\n",
      "13\n",
      "I hope you are enjoying 30 days of Python Challenge\n"
     ]
    }
   ],
   "source": [
    "# Creating a String \n",
    "letter = 'P'                # A string could be a single character or a bunch of texts\n",
    "print(letter)               # P\n",
    "print(len(letter))          # 1\n",
    "greeting = 'Hello, World!'  # String could be made using a single or double quote,\"Hello, World!\"\n",
    "print(greeting)             # Hello, World!\n",
    "print(len(greeting))        # 13\n",
    "sentence = \"I hope you are enjoying 30 days of Python Challenge\"\n",
    "print(sentence)"
   ]
  },
  {
   "cell_type": "markdown",
   "id": "6111dd71",
   "metadata": {},
   "source": [
    "Multiline string is created by using triple single (''') or triple double quotes (\"\"\"). See the example below.\n",
    "\n"
   ]
  },
  {
   "cell_type": "code",
   "execution_count": 2,
   "id": "54a24f2c",
   "metadata": {},
   "outputs": [
    {
     "name": "stdout",
     "output_type": "stream",
     "text": [
      "I am a teacher and enjoy teaching.\n",
      "I didn't find anything as rewarding as empowering people.\n",
      "That is why I created 30 days of python.\n",
      "I am a teacher and enjoy teaching.\n",
      "I didn't find anything as rewarding as empowering people.\n",
      "That is why I created 30 days of python.\n"
     ]
    }
   ],
   "source": [
    "multiline_string = '''I am a teacher and enjoy teaching.\n",
    "I didn't find anything as rewarding as empowering people.\n",
    "That is why I created 30 days of python.'''\n",
    "print(multiline_string)\n",
    "\n",
    "# Another way of doing the same thing\n",
    "multiline_string = \"\"\"I am a teacher and enjoy teaching.\n",
    "I didn't find anything as rewarding as empowering people.\n",
    "That is why I created 30 days of python.\"\"\"\n",
    "print(multiline_string)"
   ]
  },
  {
   "cell_type": "markdown",
   "id": "c8667182",
   "metadata": {},
   "source": [
    "String Concatenation\n",
    "====================\n",
    "\n",
    "We can connect strings together. Merging or connecting strings is called concatenation. See the example below:\n",
    "\n",
    "```python\n",
    "string1 = \"Hello, \"\n",
    "string2 = \"world!\"\n",
    "result = string1 + string2\n",
    "print(result)  # Output: Hello, world!\n"
   ]
  },
  {
   "cell_type": "code",
   "execution_count": 3,
   "id": "08955603",
   "metadata": {},
   "outputs": [
    {
     "name": "stdout",
     "output_type": "stream",
     "text": [
      "Nigar Sultana\n",
      "5\n",
      "7\n",
      "False\n",
      "13\n"
     ]
    }
   ],
   "source": [
    "first_name = 'Nigar'\n",
    "last_name = 'Sultana'\n",
    "space = ' '\n",
    "full_name = first_name  +  space + last_name\n",
    "print(full_name) # Nigar Sultana\n",
    "# Checking the length of a string using len() built-in function\n",
    "print(len(first_name))  #5\n",
    "print(len(last_name))   #7\n",
    "print(len(first_name) > len(last_name)) # True\n",
    "print(len(full_name)) # 13"
   ]
  },
  {
   "cell_type": "markdown",
   "id": "4a74c184",
   "metadata": {},
   "source": [
    "Escape Sequences in Strings\n",
    "===========================\n",
    "\n",
    "In Python and other programming languages, a backslash (\\) followed by a character is an escape sequence. Let's explore some of the most common escape characters:\n",
    "\n",
    "- `\\n`: New line\n",
    "- `\\t`: Tab (equivalent to 8 spaces)\n",
    "- `\\\\`: Backslash\n",
    "- `\\'`: Single quote (')\n",
    "- `\\\"`: Double quote (\")\n",
    "\n",
    "Now, let's see the use of the above escape sequences with examples:\n",
    "\n",
    "Example 1: New Line\n",
    "```python\n",
    "print(\"This is the first line.\\nThis is the second line.\")\n"
   ]
  },
  {
   "cell_type": "code",
   "execution_count": 6,
   "id": "a9c2be05",
   "metadata": {},
   "outputs": [
    {
     "name": "stdout",
     "output_type": "stream",
     "text": [
      "I hope everyone is enjoying the Python Challenge.\n",
      "Are you ?\n",
      "Days\tTopics\tExercises\n",
      "Day 1\t5\t5\n",
      "Day 2\t6\t20\n",
      "Day 3\t5\t23\n",
      "Day 4\t1\t35\n",
      "This is a backslash  symbol (\\)\n",
      "In every programming language it starts with \"Hello, World!\"\n"
     ]
    }
   ],
   "source": [
    "print('I hope everyone is enjoying the Python Challenge.\\nAre you ?') # line break\n",
    "print('Days\\tTopics\\tExercises') # adding tab space or 4 spaces \n",
    "print('Day 1\\t5\\t5')\n",
    "print('Day 2\\t6\\t20')\n",
    "print('Day 3\\t5\\t23')\n",
    "print('Day 4\\t1\\t35')\n",
    "print('This is a backslash  symbol (\\\\)') # To write a backslash\n",
    "print('In every programming language it starts with \\\"Hello, World!\\\"') # to write a double quote inside a single quote\n"
   ]
  },
  {
   "cell_type": "markdown",
   "id": "49403477",
   "metadata": {},
   "source": [
    "## String Formatting \n",
    "## Old Style String Formatting (% Operator)\n",
    "\n",
    "\n",
    "In Python, there are many ways to format strings. In this section, we will cover some of them. The \"%\" operator is used to format a set of variables enclosed in a \"tuple\" (a fixed-size list), together with a format string. The format string contains normal text along with \"argument specifiers,\" special symbols like \"%s,\" \"%d,\" \"%f,\" and \"%.number of digitsf.\"\n",
    "\n",
    "- `%s`: String (or any object with a string representation, like numbers)\n",
    "- `%d`: Integers\n",
    "- `%f`: Floating-point numbers\n",
    "- `\"%.number of digitsf\"`: Floating-point numbers with fixed precision\n"
   ]
  },
  {
   "cell_type": "code",
   "execution_count": 7,
   "id": "ae254829",
   "metadata": {},
   "outputs": [
    {
     "name": "stdout",
     "output_type": "stream",
     "text": [
      "I am Asabeneh Yetayeh. I teach Python\n",
      "The following are python libraries:['Django', 'Flask', 'NumPy', 'Matplotlib', 'Pandas']\n"
     ]
    }
   ],
   "source": [
    "# Strings only\n",
    "first_name = 'Asabeneh'\n",
    "last_name = 'Yetayeh'\n",
    "language = 'Python'\n",
    "formated_string = 'I am %s %s. I teach %s' %(first_name, last_name, language)\n",
    "print(formated_string)\n",
    "\n",
    "# Strings  and numbers\n",
    "radius = 10\n",
    "pi = 3.14\n",
    "area = pi * radius ** 2\n",
    "formated_string = 'The area of circle with a radius %d is %.2f.' %(radius, area) # 2 refers the 2 significant digits after the point\n",
    "\n",
    "python_libraries = ['Django', 'Flask', 'NumPy', 'Matplotlib','Pandas']\n",
    "formated_string = 'The following are python libraries:%s' % (python_libraries)\n",
    "print(formated_string) # \"The following are python libraries:['Django', 'Flask', 'NumPy', 'Matplotlib','Pandas']\""
   ]
  },
  {
   "cell_type": "markdown",
   "id": "1b050f97",
   "metadata": {},
   "source": [
    "## New Style String Formatting (str.format)\n",
    "\n",
    "Starting from Python version 3, a more versatile way of string formatting was introduced using the `str.format` method.\n"
   ]
  },
  {
   "cell_type": "code",
   "execution_count": 9,
   "id": "1eececc4",
   "metadata": {},
   "outputs": [
    {
     "name": "stdout",
     "output_type": "stream",
     "text": [
      "I am Nigar Sultana. I teach Python\n",
      "4 + 3 = 7\n",
      "4 - 3 = 1\n",
      "4 * 3 = 12\n",
      "4 / 3 = 1.33\n",
      "4 % 3 = 1\n",
      "4 // 3 = 1\n",
      "4 ** 3 = 64\n",
      "The area of a circle with a radius 10 is 314.00.\n"
     ]
    }
   ],
   "source": [
    "\n",
    "first_name = 'Nigar'\n",
    "last_name = 'Sultana'\n",
    "language = 'Python'\n",
    "formated_string = 'I am {} {}. I teach {}'.format(first_name, last_name, language)\n",
    "print(formated_string)\n",
    "a = 4\n",
    "b = 3\n",
    "\n",
    "print('{} + {} = {}'.format(a, b, a + b))\n",
    "print('{} - {} = {}'.format(a, b, a - b))\n",
    "print('{} * {} = {}'.format(a, b, a * b))\n",
    "print('{} / {} = {:.2f}'.format(a, b, a / b)) # limits it to two digits after decimal\n",
    "print('{} % {} = {}'.format(a, b, a % b))\n",
    "print('{} // {} = {}'.format(a, b, a // b))\n",
    "print('{} ** {} = {}'.format(a, b, a ** b))\n",
    "\n",
    "\n",
    "# Strings  and numbers\n",
    "radius = 10\n",
    "pi = 3.14\n",
    "area = pi * radius ** 2\n",
    "formated_string = 'The area of a circle with a radius {} is {:.2f}.'.format(radius, area) # 2 digits after decimal\n",
    "print(formated_string)\n"
   ]
  },
  {
   "cell_type": "markdown",
   "id": "8caec7ab",
   "metadata": {},
   "source": [
    "## String Interpolation / f-Strings (Python 3.6+)\n",
    "\n",
    "In Python 3.6 and later versions, a new and concise way of string formatting, known as f-strings, was introduced. Strings start with the letter 'f', and you can inject data into them in their corresponding positions using curly braces `{}`.\n",
    "\n",
    "Example:\n",
    "```python\n",
    "name = \"Alice\"\n",
    "age = 30\n",
    "formatted_string = f\"My name is {name} and I am {age} years old.\"\n",
    "print(formatted_string)\n"
   ]
  },
  {
   "cell_type": "code",
   "execution_count": 10,
   "id": "6dc56574",
   "metadata": {},
   "outputs": [
    {
     "name": "stdout",
     "output_type": "stream",
     "text": [
      "4 + 3 = 7\n",
      "4 - 3 = 1\n",
      "4 * 3 = 12\n",
      "4 / 3 = 1.33\n",
      "4 % 3 = 1\n",
      "4 // 3 = 1\n",
      "4 ** 3 = 64\n"
     ]
    }
   ],
   "source": [
    "a = 4\n",
    "b = 3\n",
    "print(f'{a} + {b} = {a +b}')\n",
    "print(f'{a} - {b} = {a - b}')\n",
    "print(f'{a} * {b} = {a * b}')\n",
    "print(f'{a} / {b} = {a / b:.2f}')\n",
    "print(f'{a} % {b} = {a % b}')\n",
    "print(f'{a} // {b} = {a // b}')\n",
    "print(f'{a} ** {b} = {a ** b}')"
   ]
  },
  {
   "cell_type": "markdown",
   "id": "85cc4de4",
   "metadata": {},
   "source": [
    "## Python Strings as Sequences of Characters\n",
    "\n",
    "Python strings are sequences of characters and share their basic methods of access with other Python ordered sequences of objects, such as lists and tuples. The simplest way of extracting single characters from strings (and individual members from any sequence) is to unpack them into corresponding variables.\n"
   ]
  },
  {
   "cell_type": "markdown",
   "id": "e26be4f3",
   "metadata": {},
   "source": [
    "### Unpacking Characters\n",
    "\n",
    "In Python, you can unpack characters from a string using multiple methods, including slicing and iteration. Unpacking characters allows you to access and work with individual characters within a string.\n",
    "\n",
    "**Example 1: Using Slicing**\n",
    "```python\n",
    "text = \"Python\"\n",
    "first_char = text[0]  # Access the first character 'P'\n",
    "print(first_char)\n"
   ]
  },
  {
   "cell_type": "code",
   "execution_count": 12,
   "id": "81bdc9fe",
   "metadata": {},
   "outputs": [
    {
     "name": "stdout",
     "output_type": "stream",
     "text": [
      "P\n",
      "y\n",
      "t\n",
      "h\n",
      "o\n",
      "n\n"
     ]
    }
   ],
   "source": [
    "language = 'Python'\n",
    "a,b,c,d,e,f = language # unpacking sequence characters into variables\n",
    "print(a) # P\n",
    "print(b) # y\n",
    "print(c) # t\n",
    "print(d) # h\n",
    "print(e) # o\n",
    "print(f) # n"
   ]
  },
  {
   "cell_type": "markdown",
   "id": "c3108f6b",
   "metadata": {},
   "source": [
    "## Accessing Characters in Strings by Index\n",
    "\n",
    "In programming, counting starts from zero. Therefore, the first letter of a string is at zero index, and the last letter of a string is at the index equal to the length of the string minus one.\n",
    "\n",
    "### String Indexing Example\n",
    "\n",
    "```python\n",
    "text = \"Python\"\n",
    "first_letter = text[0]  # Access the first character 'P'\n",
    "second_letter = text[1]  # Access the second character 'y'\n",
    "last_letter = text[len(text) - 1]  # Access the last character 'n'\n",
    "\n",
    "print(f\"First letter: {first_letter}\")\n",
    "print(f\"Second letter: {second_letter}\")\n",
    "print(f\"Last letter: {last_letter}\")\n"
   ]
  },
  {
   "cell_type": "code",
   "execution_count": 14,
   "id": "12e2af41",
   "metadata": {},
   "outputs": [
    {
     "name": "stdout",
     "output_type": "stream",
     "text": [
      "P\n",
      "y\n",
      "n\n"
     ]
    }
   ],
   "source": [
    "language = 'Python'\n",
    "first_letter = language[0]\n",
    "print(first_letter) # P\n",
    "second_letter = language[1]\n",
    "print(second_letter) # y\n",
    "last_index = len(language) - 1\n",
    "last_letter = language[last_index]\n",
    "print(last_letter) # n"
   ]
  },
  {
   "cell_type": "markdown",
   "id": "3a3e9222",
   "metadata": {},
   "source": [
    "If we want to start from right end we can use negative indexing. -1 is the last index.\n",
    "\n"
   ]
  },
  {
   "cell_type": "code",
   "execution_count": 15,
   "id": "23011e7b",
   "metadata": {},
   "outputs": [
    {
     "name": "stdout",
     "output_type": "stream",
     "text": [
      "n\n",
      "o\n"
     ]
    }
   ],
   "source": [
    "language = 'Python'\n",
    "last_letter = language[-1]\n",
    "print(last_letter) # n\n",
    "second_last = language[-2]\n",
    "print(second_last) # o"
   ]
  },
  {
   "cell_type": "markdown",
   "id": "266e8c34",
   "metadata": {},
   "source": [
    "# Slicing Python Strings\n",
    "\n",
    "In Python, we can slice strings into substrings.\n"
   ]
  },
  {
   "cell_type": "code",
   "execution_count": 2,
   "id": "9b434703",
   "metadata": {},
   "outputs": [
    {
     "name": "stdout",
     "output_type": "stream",
     "text": [
      "Pyt\n",
      "hon\n",
      "hon\n",
      "hon\n"
     ]
    }
   ],
   "source": [
    "language = 'Python'\n",
    "first_three = language[0:3] # starts at zero index and up to 3 but not include 3\n",
    "print(first_three) #pyt\n",
    "last_three = language[3:6]\n",
    "print(last_three) #hon\n",
    "# Another way\n",
    "last_three = language [-3:]\n",
    "print(last_three) #hon\n",
    "last_three = language[3:] #hon\n",
    "print(last_three)"
   ]
  },
  {
   "cell_type": "markdown",
   "id": "90c5d701",
   "metadata": {},
   "source": [
    "# Reversing a String\n",
    "\n",
    "In Python, we can easily reverse strings.\n"
   ]
  },
  {
   "cell_type": "code",
   "execution_count": 3,
   "id": "6470cda5",
   "metadata": {},
   "outputs": [
    {
     "name": "stdout",
     "output_type": "stream",
     "text": [
      "!dlroW olleH\n"
     ]
    }
   ],
   "source": [
    "greeting = 'Hello World!'\n",
    "print(greeting[::-1]) #dlow , olleH"
   ]
  },
  {
   "cell_type": "markdown",
   "id": "e467697b",
   "metadata": {},
   "source": [
    "# Skipping Characters While Slicing\n",
    "\n",
    "It is possible to skip characters while slicing by passing a step argument to the slice method.\n"
   ]
  },
  {
   "cell_type": "code",
   "execution_count": 4,
   "id": "844b8948",
   "metadata": {},
   "outputs": [
    {
     "name": "stdout",
     "output_type": "stream",
     "text": [
      "Pto\n"
     ]
    }
   ],
   "source": [
    "language = 'Python'\n",
    "pto = language[0:6:2]#\n",
    "print(pto) #pto"
   ]
  },
  {
   "cell_type": "markdown",
   "id": "e194c4e6",
   "metadata": {},
   "source": [
    "# String Methods\n",
    "\n",
    "There are many string methods that allow us to format strings. Below is an example of the `capitalize()` method:\n",
    "\n",
    "- `capitalize()`: Converts the first character of the string to a capital letter.\n",
    "\n",
    "Example:\n",
    "\n",
    "```python\n",
    "text = \"hello, world\"\n",
    "capitalized_text = text.capitalize()\n",
    "print(capitalized_text)  # Output: \"Hello, world\"\n"
   ]
  },
  {
   "cell_type": "code",
   "execution_count": 5,
   "id": "2c6fddc0",
   "metadata": {},
   "outputs": [
    {
     "name": "stdout",
     "output_type": "stream",
     "text": [
      "Thirty days of python\n"
     ]
    }
   ],
   "source": [
    "# Example:\n",
    "challenge = 'thirty days of python'\n",
    "print(challenge.capitalize()) # 'Thirty days of python'"
   ]
  },
  {
   "cell_type": "markdown",
   "id": "a26d2f46",
   "metadata": {},
   "source": [
    "# String Methods\n",
    "\n",
    "There are many string methods that allow us to format and manipulate strings. Here's an example of the `count()` method:\n",
    "\n",
    "- `count(substring, start=..., end=...)`: Returns the number of occurrences of a substring within a string. You can specify optional `start` and `end` parameters to count within a specific range of the string.\n",
    "\n",
    "Example:\n",
    "\n",
    "```python\n",
    "text = \"python is an easy-to-learn programming language. Python is also versatile.\"\n",
    "substring = \"Python\"\n",
    "count = text.count(substring)\n",
    "print(count)  # Output: 2\n"
   ]
  },
  {
   "cell_type": "code",
   "execution_count": 6,
   "id": "b6c7367e",
   "metadata": {},
   "outputs": [
    {
     "name": "stdout",
     "output_type": "stream",
     "text": [
      "3\n",
      "1\n",
      "2\n"
     ]
    }
   ],
   "source": [
    "#Example:\n",
    "challenge = 'thirty days of python'\n",
    "print(challenge.count('y')) # 3\n",
    "print(challenge.count('y', 7, 14)) # 1, \n",
    "print(challenge.count('th')) # 2`"
   ]
  },
  {
   "cell_type": "markdown",
   "id": "130a004b",
   "metadata": {},
   "source": [
    "# String Methods\n",
    "\n",
    "There are many string methods that allow us to format and manipulate strings. Here's an example of the `endswith()` method:\n",
    "\n",
    "- `endswith(ending)`: Checks if a string ends with a specified ending and returns a Boolean value (True or False).\n",
    "\n",
    "Example:\n",
    "\n",
    "```python\n",
    "text = \"Hello, World!\"\n",
    "ending = \"World!\"\n",
    "result = text.endswith(ending)\n",
    "print(result)  # Output: True\n"
   ]
  },
  {
   "cell_type": "code",
   "execution_count": 7,
   "id": "f4a852ee",
   "metadata": {},
   "outputs": [
    {
     "name": "stdout",
     "output_type": "stream",
     "text": [
      "True\n",
      "False\n"
     ]
    }
   ],
   "source": [
    "#Example:\n",
    "challenge = 'thirty days of python'\n",
    "print(challenge.endswith('on'))   # True\n",
    "print(challenge.endswith('tion')) # False"
   ]
  },
  {
   "cell_type": "markdown",
   "id": "f71fc335",
   "metadata": {},
   "source": [
    "# String Methods\n",
    "\n",
    "There are many string methods that allow us to format and manipulate strings. Here's an example of the `expandtabs()` method:\n",
    "\n",
    "- `expandtabs(tabsize=8)`: Replaces tab characters in a string with spaces. By default, the tab size is 8, but you can specify a custom tab size using the `tabsize` argument.\n",
    "\n",
    "Example:\n",
    "\n",
    "```python\n",
    "text = \"Indent\\tme\\tplease.\"\n",
    "expanded_text = text.expandtabs()\n",
    "print(expanded_text)  # Output: \"Indent  me      please.\"\n",
    "\n",
    "custom_tabsize = 4\n",
    "text = \"Indent\\tme\\tplease.\"\n",
    "expanded_text = text.expandtabs(custom_tabsize)\n",
    "print(expanded_text)  # Output: \"Indent  me  please.\"\n"
   ]
  },
  {
   "cell_type": "code",
   "execution_count": 8,
   "id": "19bb128b",
   "metadata": {},
   "outputs": [
    {
     "name": "stdout",
     "output_type": "stream",
     "text": [
      "thirty  days    of      python\n",
      "thirty    days      of        python\n"
     ]
    }
   ],
   "source": [
    "#Example:\n",
    "challenge = 'thirty\\tdays\\tof\\tpython'\n",
    "print(challenge.expandtabs())   # 'thirty  days    of      python'\n",
    "print(challenge.expandtabs(10)) # 'thirty    days      of        python'"
   ]
  },
  {
   "cell_type": "markdown",
   "id": "f4179980",
   "metadata": {},
   "source": [
    "# String Methods\n",
    "\n",
    "There are many string methods that allow us to format and manipulate strings. Here's an example of the `find()` method:\n",
    "\n",
    "- `find(substring)`: Returns the index of the first occurrence of a substring within a string. If the substring is not found, it returns -1.\n",
    "\n",
    "Example:\n",
    "\n",
    "```python\n",
    "text = \"Python is a popular programming language.\"\n",
    "substring = \"is\"\n",
    "index = text.find(substring)\n",
    "print(index)  # Output: 7\n"
   ]
  },
  {
   "cell_type": "code",
   "execution_count": 9,
   "id": "a4f57609",
   "metadata": {},
   "outputs": [
    {
     "name": "stdout",
     "output_type": "stream",
     "text": [
      "5\n",
      "0\n"
     ]
    }
   ],
   "source": [
    "#Example:\n",
    "challenge = 'thirty days of python'\n",
    "print(challenge.find('y'))  # 5\n",
    "print(challenge.find('th')) # 0"
   ]
  },
  {
   "cell_type": "markdown",
   "id": "d8481eb0",
   "metadata": {},
   "source": [
    "# String Methods\n",
    "\n",
    "There are many string methods that allow us to format and manipulate strings. Here's an example of the `rfind()` method:\n",
    "\n",
    "- `rfind(substring)`: Returns the index of the last occurrence of a substring within a string. If the substring is not found, it returns -1.\n",
    "\n",
    "Example:\n",
    "\n",
    "```python\n",
    "text = \"Python is a versatile language. Python is popular.\"\n",
    "substring = \"Python\"\n",
    "index = text.rfind(substring)\n",
    "print(index)  # Output: 27\n"
   ]
  },
  {
   "cell_type": "code",
   "execution_count": 10,
   "id": "46d4ff99",
   "metadata": {},
   "outputs": [
    {
     "name": "stdout",
     "output_type": "stream",
     "text": [
      "16\n",
      "17\n"
     ]
    }
   ],
   "source": [
    "#Example:\n",
    "challenge = 'thirty days of python'\n",
    "print(challenge.rfind('y'))  # 16\n",
    "print(challenge.rfind('th')) # 17"
   ]
  },
  {
   "cell_type": "markdown",
   "id": "315ebc89",
   "metadata": {},
   "source": [
    "# String Formatting with `format()`\n",
    "\n",
    "The `format()` method is a powerful feature in Python for formatting strings, allowing you to create well-structured and nicely formatted output. It works by replacing placeholders within a string with specified values.\n",
    "\n",
    "Example:\n",
    "\n",
    "```python\n",
    "name = \"John\"\n",
    "age = 30\n",
    "formatted_string = \"My name is {} and I am {} years old.\".format(name, age)\n",
    "print(formatted_string)  # Output: \"My name is John and I am 30 years old.\"\n"
   ]
  },
  {
   "cell_type": "code",
   "execution_count": 11,
   "id": "3fc88e77",
   "metadata": {},
   "outputs": [
    {
     "name": "stdout",
     "output_type": "stream",
     "text": [
      "Hello, I am Alice Johnson. I work as an engineer. I am 32 years old. I currently reside in Canada.\n",
      "The area of a circle with a radius of 7 is 153.94\n"
     ]
    }
   ],
   "source": [
    "# Example 1: Creating a Sentence\n",
    "first_name = 'Alice'\n",
    "last_name = 'Johnson'\n",
    "age = 32\n",
    "job = 'engineer'\n",
    "country = 'Canada'\n",
    "sentence = 'Hello, I am {} {}. I work as an {}. I am {} years old. I currently reside in {}.'.format(first_name, last_name, job, age, country)\n",
    "print(sentence)  # Output: Hello, I am Alice Johnson. I work as an engineer. I am 32 years old. I currently reside in Canada.\n",
    "\n",
    "# Example 2: Calculating the Area of a Circle\n",
    "radius = 7\n",
    "pi = 3.14159  # A more precise approximation of pi\n",
    "area = pi * radius ** 2\n",
    "result = 'The area of a circle with a radius of {} is {:.2f}'.format(radius, area)\n",
    "print(result)  # Output: The area of a circle with a radius of 7 is 153.94\n"
   ]
  },
  {
   "cell_type": "markdown",
   "id": "7d37cefb",
   "metadata": {},
   "source": [
    "# Index Method (`index()`)\n",
    "\n",
    "The `index()` method is a string method that returns the lowest index of a specified substring within a string. It also provides optional arguments for specifying the starting and ending index for the search, allowing you to control the search range. If the substring is not found, it raises a `ValueError` exception.\n",
    "\n",
    "Example:\n",
    "\n",
    "```python\n",
    "text = \"Python is a powerful programming language. Python is versatile.\"\n",
    "substring = \"Python\"\n",
    "index = text.index(substring)\n",
    "print(index)  # Output: 0\n"
   ]
  },
  {
   "cell_type": "code",
   "execution_count": 13,
   "id": "016ea665",
   "metadata": {},
   "outputs": [
    {
     "name": "stdout",
     "output_type": "stream",
     "text": [
      "43\n",
      "43\n"
     ]
    }
   ],
   "source": [
    "#Example:\n",
    "challenge = \"Python is a great programming language for data science.\"\n",
    "sub_string = 'da'\n",
    "print(challenge.index(sub_string))  # Output: 7\n",
    "print(challenge.index(sub_string, 9))  # Raises a ValueError\n"
   ]
  },
  {
   "cell_type": "markdown",
   "id": "7ce12abd",
   "metadata": {},
   "source": [
    "# `rindex()` Method\n",
    "\n",
    "The `rindex()` method is a string method in Python that returns the highest (last) index of a specified substring within a string. It provides optional arguments to specify the starting and ending indices for the search, allowing you to control the search range.\n",
    "\n",
    "- `rindex(substring, start=0, end=len(string))`: Returns the highest (last) index of a substring within a string. You can specify optional `start` and `end` parameters to narrow down the search range.\n",
    "\n",
    "Example:\n",
    "\n",
    "```python\n",
    "text = \"Python is a versatile language. Python is popular.\"\n",
    "substring = \"Python\"\n",
    "index = text.rindex(substring)\n",
    "print(index)  # Output: 23\n"
   ]
  },
  {
   "cell_type": "code",
   "execution_count": 15,
   "id": "51a6b588",
   "metadata": {},
   "outputs": [
    {
     "name": "stdout",
     "output_type": "stream",
     "text": [
      "7\n"
     ]
    },
    {
     "ename": "ValueError",
     "evalue": "substring not found",
     "output_type": "error",
     "traceback": [
      "\u001b[1;31m---------------------------------------------------------------------------\u001b[0m",
      "\u001b[1;31mValueError\u001b[0m                                Traceback (most recent call last)",
      "\u001b[1;32m~\\AppData\\Local\\Temp\\ipykernel_22996\\3239371893.py\u001b[0m in \u001b[0;36m<module>\u001b[1;34m\u001b[0m\n\u001b[0;32m      3\u001b[0m \u001b[0msub_string\u001b[0m \u001b[1;33m=\u001b[0m \u001b[1;34m'da'\u001b[0m\u001b[1;33m\u001b[0m\u001b[1;33m\u001b[0m\u001b[0m\n\u001b[0;32m      4\u001b[0m \u001b[0mprint\u001b[0m\u001b[1;33m(\u001b[0m\u001b[0mchallenge\u001b[0m\u001b[1;33m.\u001b[0m\u001b[0mrindex\u001b[0m\u001b[1;33m(\u001b[0m\u001b[0msub_string\u001b[0m\u001b[1;33m)\u001b[0m\u001b[1;33m)\u001b[0m  \u001b[1;31m# Output: 8\u001b[0m\u001b[1;33m\u001b[0m\u001b[1;33m\u001b[0m\u001b[0m\n\u001b[1;32m----> 5\u001b[1;33m \u001b[0mprint\u001b[0m\u001b[1;33m(\u001b[0m\u001b[0mchallenge\u001b[0m\u001b[1;33m.\u001b[0m\u001b[0mrindex\u001b[0m\u001b[1;33m(\u001b[0m\u001b[0msub_string\u001b[0m\u001b[1;33m,\u001b[0m \u001b[1;36m9\u001b[0m\u001b[1;33m)\u001b[0m\u001b[1;33m)\u001b[0m  \u001b[1;31m# Raises an error\u001b[0m\u001b[1;33m\u001b[0m\u001b[1;33m\u001b[0m\u001b[0m\n\u001b[0m",
      "\u001b[1;31mValueError\u001b[0m: substring not found"
     ]
    }
   ],
   "source": [
    "# Example:\n",
    "challenge = 'thirty days of python'\n",
    "sub_string = 'da'\n",
    "print(challenge.rindex(sub_string))  # Output: 8\n",
    "print(challenge.rindex(sub_string, 9))  # Raises an error\n"
   ]
  },
  {
   "cell_type": "markdown",
   "id": "6c09cdd9",
   "metadata": {},
   "source": [
    "# `isalnum()` Method\n",
    "\n",
    "The `isalnum()` method is a string method in Python used to check whether all the characters in a given string are alphanumeric, which means they are either letters (A-Z, a-z) or numbers (0-9).\n",
    "\n",
    "- `isalnum()`: Returns `True` if all characters in the string are alphanumeric; otherwise, it returns `False`.\n",
    "\n",
    "Example:\n",
    "\n",
    "```python\n",
    "text = \"Python3\"\n",
    "result = text.isalnum()\n",
    "print(result)  # Output: True\n"
   ]
  },
  {
   "cell_type": "code",
   "execution_count": 16,
   "id": "ac5deab9",
   "metadata": {},
   "outputs": [
    {
     "name": "stdout",
     "output_type": "stream",
     "text": [
      "True\n",
      "True\n",
      "False\n",
      "False\n"
     ]
    }
   ],
   "source": [
    "#Example:\n",
    "challenge = 'ThirtyDaysPython'\n",
    "print(challenge.isalnum()) # True\n",
    "\n",
    "challenge = '30DaysPython'\n",
    "print(challenge.isalnum()) # True\n",
    "\n",
    "challenge = 'thirty days of python'\n",
    "print(challenge.isalnum()) # False, space is not an alphanumeric character\n",
    "\n",
    "challenge = 'thirty days of python 2019'\n",
    "print(challenge.isalnum()) # False"
   ]
  },
  {
   "cell_type": "markdown",
   "id": "ace5de2b",
   "metadata": {},
   "source": [
    "# `isalpha()` Method\n",
    "\n",
    "The `isalpha()` method is a string method in Python used to determine whether all characters in a given string are alphabet characters, which include the letters from 'a' to 'z' and 'A' to 'Z'.\n",
    "\n",
    "- `isalpha()`: Returns `True` if all characters in the string are alphabet characters; otherwise, it returns `False`.\n",
    "\n",
    "Example:\n",
    "\n",
    "```python\n",
    "text = \"Python\"\n",
    "result = text.isalpha()\n",
    "print(result)  # Output: True\n"
   ]
  },
  {
   "cell_type": "code",
   "execution_count": 17,
   "id": "a43e3569",
   "metadata": {},
   "outputs": [
    {
     "name": "stdout",
     "output_type": "stream",
     "text": [
      "False\n",
      "True\n",
      "False\n"
     ]
    }
   ],
   "source": [
    "#Example:\n",
    "challenge = 'thirty days of python'\n",
    "print(challenge.isalpha()) # False, space is once again excluded\n",
    "challenge = 'ThirtyDaysPython'\n",
    "print(challenge.isalpha()) # True\n",
    "num = '123'\n",
    "print(num.isalpha())      # False"
   ]
  },
  {
   "cell_type": "markdown",
   "id": "769d8597",
   "metadata": {},
   "source": [
    "# `isdecimal()` Method\n",
    "\n",
    "The `isdecimal()` method is a string method in Python used to determine whether all characters in a given string are decimal characters, which include the digits from '0' to '9'.\n",
    "\n",
    "- `isdecimal()`: Returns `True` if all characters in the string are decimal (numeric) characters (0-9); otherwise, it returns `False`.\n",
    "\n",
    "Example:\n",
    "\n",
    "```python\n",
    "num = \"12345\"\n",
    "result = num.isdecimal()\n",
    "print(result)  # Output: True\n"
   ]
  },
  {
   "cell_type": "code",
   "execution_count": 18,
   "id": "dd656583",
   "metadata": {},
   "outputs": [
    {
     "name": "stdout",
     "output_type": "stream",
     "text": [
      "False\n",
      "True\n",
      "True\n",
      "False\n"
     ]
    }
   ],
   "source": [
    "#Example:\n",
    "challenge = 'thirty days of python'\n",
    "print(challenge.isdecimal())  # False\n",
    "challenge = '123'\n",
    "print(challenge.isdecimal())  # True\n",
    "challenge = '\\u00B2'\n",
    "print(challenge.isdigit())   # False\n",
    "challenge = '12 3'\n",
    "print(challenge.isdecimal())  # False, space not allowed"
   ]
  },
  {
   "cell_type": "markdown",
   "id": "f5883859",
   "metadata": {},
   "source": [
    "# `isdigit()` Method\n",
    "\n",
    "The `isdigit()` method is a string method in Python used to determine whether all characters in a given string are numeric characters. This includes digits from '0' to '9' and some other Unicode characters that represent numbers.\n",
    "\n",
    "- `isdigit()`: Returns `True` if all characters in the string are numeric characters (0-9 and certain other Unicode representations of numbers); otherwise, it returns `False`.\n",
    "\n",
    "Example:\n",
    "\n",
    "```python\n",
    "num1 = \"12345\"\n",
    "result1 = num1.isdigit()\n",
    "print(result1)  # Output: True\n",
    "\n",
    "num2 = \"٤٥٦\"\n",
    "result2 = num2.isdigit()\n",
    "print(result2)  # Output: True\n"
   ]
  },
  {
   "cell_type": "code",
   "execution_count": 19,
   "id": "a02b6c2f",
   "metadata": {},
   "outputs": [
    {
     "name": "stdout",
     "output_type": "stream",
     "text": [
      "False\n",
      "True\n",
      "True\n"
     ]
    }
   ],
   "source": [
    "#Example:\n",
    "challenge = 'Thirty'\n",
    "print(challenge.isdigit()) # False\n",
    "challenge = '30'\n",
    "print(challenge.isdigit())   # True\n",
    "challenge = '\\u00B2'\n",
    "print(challenge.isdigit())   # True"
   ]
  },
  {
   "cell_type": "markdown",
   "id": "f059e328",
   "metadata": {},
   "source": [
    "# `isnumeric()` Method\n",
    "\n",
    "The `isnumeric()` method is a string method in Python used to determine whether all characters in a given string are numeric characters or number-related characters, which may include more symbols, such as fractions like ½.\n",
    "\n",
    "- `isnumeric()`: Returns `True` if all characters in the string are numeric characters or number-related symbols; otherwise, it returns `False`.\n",
    "\n",
    "Example:\n",
    "\n",
    "```python\n",
    "num1 = \"12345\"\n",
    "result1 = num1.isnumeric()\n",
    "print(result1)  # Output: True\n",
    "\n",
    "num2 = \"½\"\n",
    "result2 = num2.isnumeric()\n",
    "print(result2)  # Output: True\n"
   ]
  },
  {
   "cell_type": "code",
   "execution_count": 20,
   "id": "47c59a99",
   "metadata": {},
   "outputs": [
    {
     "name": "stdout",
     "output_type": "stream",
     "text": [
      "True\n",
      "True\n",
      "False\n"
     ]
    }
   ],
   "source": [
    "#Example:\n",
    "num = '10'\n",
    "print(num.isnumeric()) # True\n",
    "num = '\\u00BD' # ½\n",
    "print(num.isnumeric()) # True\n",
    "num = '10.5'\n",
    "print(num.isnumeric()) # False"
   ]
  },
  {
   "cell_type": "markdown",
   "id": "bca707fc",
   "metadata": {},
   "source": [
    "# `isidentifier()` Method\n",
    "\n",
    "The `isidentifier()` method is a string method in Python used to check whether a given string is a valid identifier, which means it can be used as a variable name in Python.\n",
    "\n",
    "- `isidentifier()`: Returns `True` if the string is a valid Python identifier or variable name; otherwise, it returns `False`.\n",
    "\n",
    "Example:\n",
    "\n",
    "```python\n",
    "variable_name1 = \"my_variable\"\n",
    "result1 = variable_name1.isidentifier()\n",
    "print(result1)  # Output: True\n",
    "\n",
    "variable_name2 = \"123variable\"\n",
    "result2 = variable_name2.isidentifier()\n",
    "print(result2)  # Output: False\n"
   ]
  },
  {
   "cell_type": "code",
   "execution_count": 21,
   "id": "b318db7f",
   "metadata": {},
   "outputs": [
    {
     "name": "stdout",
     "output_type": "stream",
     "text": [
      "False\n",
      "True\n"
     ]
    }
   ],
   "source": [
    "#Example:\n",
    "challenge = '30DaysOfPython'\n",
    "print(challenge.isidentifier()) # False, because it starts with a number\n",
    "challenge = 'thirty_days_of_python'\n",
    "print(challenge.isidentifier()) # True"
   ]
  },
  {
   "cell_type": "markdown",
   "id": "85958155",
   "metadata": {},
   "source": [
    "# `islower()` Method\n",
    "\n",
    "The `islower()` method is a string method in Python used to check whether all alphabet characters in a given string are in lowercase.\n",
    "\n",
    "- `islower()`: Returns `True` if all alphabet characters in the string are in lowercase; otherwise, it returns `False`.\n",
    "\n",
    "Example:\n",
    "\n",
    "```python\n",
    "text1 = \"python is easy\"\n",
    "result1 = text1.islower()\n",
    "print(result1)  # Output: True\n",
    "\n",
    "text2 = \"Python Is Easy\"\n",
    "result2 = text2.islower()\n",
    "print(result2)  # Output: False\n"
   ]
  },
  {
   "cell_type": "code",
   "execution_count": 22,
   "id": "b87301e1",
   "metadata": {},
   "outputs": [
    {
     "name": "stdout",
     "output_type": "stream",
     "text": [
      "True\n",
      "False\n"
     ]
    }
   ],
   "source": [
    "#Example:\n",
    "challenge = 'thirty days of python'\n",
    "print(challenge.islower()) # True\n",
    "challenge = 'Thirty days of python'\n",
    "print(challenge.islower()) # False"
   ]
  },
  {
   "cell_type": "markdown",
   "id": "98ad132f",
   "metadata": {},
   "source": [
    "# `isupper()` Method\n",
    "\n",
    "The `isupper()` method is a string method in Python used to check whether all alphabet characters in a given string are in uppercase.\n",
    "\n",
    "- `isupper()`: Returns `True` if all alphabet characters in the string are in uppercase; otherwise, it returns `False`.\n",
    "\n",
    "Example:\n",
    "\n",
    "```python\n",
    "text1 = \"PYTHON IS EASY\"\n",
    "result1 = text1.isupper()\n",
    "print(result1)  # Output: True\n",
    "\n",
    "text2 = \"Python Is Easy\"\n",
    "result2 = text2.isupper()\n",
    "print(result2)  # Output: False\n"
   ]
  },
  {
   "cell_type": "code",
   "execution_count": 23,
   "id": "02866837",
   "metadata": {},
   "outputs": [
    {
     "name": "stdout",
     "output_type": "stream",
     "text": [
      "False\n",
      "True\n"
     ]
    }
   ],
   "source": [
    "#Example:\n",
    "challenge = 'thirty days of python'\n",
    "print(challenge.isupper()) #  False\n",
    "challenge = 'THIRTY DAYS OF PYTHON'\n",
    "print(challenge.isupper()) # True"
   ]
  },
  {
   "cell_type": "markdown",
   "id": "c7865393",
   "metadata": {},
   "source": [
    "# `join()` Method\n",
    "\n",
    "The `join()` method is a string method in Python used to concatenate a sequence of strings with a specific delimiter, producing a single, concatenated string.\n",
    "\n",
    "- `join(iterable)`: Returns a concatenated string formed by joining the elements of an iterable using the string on which the method is called as the separator.\n",
    "\n",
    "Example:\n",
    "\n",
    "```python\n",
    "words = ['Hello', 'World', 'Python']\n",
    "delimiter = ' '\n",
    "concatenated_string = delimiter.join(words)\n",
    "print(concatenated_string)  # Output: \"Hello World Python\"\n"
   ]
  },
  {
   "cell_type": "code",
   "execution_count": 24,
   "id": "7f492d56",
   "metadata": {},
   "outputs": [
    {
     "name": "stdout",
     "output_type": "stream",
     "text": [
      "HTML CSS JavaScript React\n"
     ]
    }
   ],
   "source": [
    "#Example:\n",
    "web_tech = ['HTML', 'CSS', 'JavaScript', 'React']\n",
    "result = ' '.join(web_tech)\n",
    "print(result) # 'HTML CSS JavaScript React'"
   ]
  },
  {
   "cell_type": "code",
   "execution_count": 25,
   "id": "0e36f196",
   "metadata": {},
   "outputs": [
    {
     "name": "stdout",
     "output_type": "stream",
     "text": [
      "HTML# CSS# JavaScript# React\n"
     ]
    }
   ],
   "source": [
    "#Exaple: \n",
    "web_tech = ['HTML', 'CSS', 'JavaScript', 'React']\n",
    "result = '# '.join(web_tech)\n",
    "print(result) # 'HTML# CSS# JavaScript# React'"
   ]
  },
  {
   "cell_type": "markdown",
   "id": "e966cadc",
   "metadata": {},
   "source": [
    "## `strip()` Method\n",
    "\n",
    "The `strip()` method is a string method in Python used to remove specific characters from the beginning and end of a string.\n",
    "\n",
    "- `strip([characters])`: Returns a new string with all occurrences of the specified characters removed from the beginning and end of the original string. If `characters` is not provided, it removes whitespace characters by default.\n",
    "\n",
    "Example:\n",
    "\n",
    "```python\n",
    "text = \"   Python is easy   \"\n",
    "stripped_text = text.strip()\n",
    "print(stripped_text)  # Output: \"Python is easy\"\n",
    "\n",
    "text = \"###Python###\"\n",
    "stripped_text = text.strip(\"#\")\n",
    "print(stripped_text)  # Output: \"Python\"\n"
   ]
  },
  {
   "cell_type": "code",
   "execution_count": 26,
   "id": "dd1a5514",
   "metadata": {},
   "outputs": [
    {
     "name": "stdout",
     "output_type": "stream",
     "text": [
      "irty days of py\n"
     ]
    }
   ],
   "source": [
    "#Example:\n",
    "challenge = 'thirty days of pythoonnn'\n",
    "print(challenge.strip('noth')) # 'irty days of py'"
   ]
  },
  {
   "cell_type": "markdown",
   "id": "72ff1834",
   "metadata": {},
   "source": [
    "# `replace()` Method\n",
    "\n",
    "The `replace()` method is a string method in Python used to replace occurrences of a specified substring with a given string.\n",
    "\n",
    "- `replace(old, new[, count])`: Returns a new string where all occurrences of the `old` substring within the original string are replaced with the `new` string. You can also use an optional `count` parameter to limit the number of replacements.\n",
    "\n",
    "Example:\n",
    "\n",
    "```python\n",
    "text = \"Python is great. Python is versatile. Python is fun.\"\n",
    "new_text = text.replace(\"Python\", \"JavaScript\")\n",
    "print(new_text)\n",
    "# Output: \"JavaScript is great. JavaScript is versatile. JavaScript is fun.\"\n",
    "\n",
    "text = \"banana, apple, orange, banana, kiwi\"\n",
    "new_text = text.replace(\"banana\", \"mango\", 1)  # Limit to 1 replacement\n",
    "print(new_text)\n",
    "# Output: \"mango, apple, orange, banana, kiwi\"\n"
   ]
  },
  {
   "cell_type": "code",
   "execution_count": 27,
   "id": "557b3048",
   "metadata": {},
   "outputs": [
    {
     "name": "stdout",
     "output_type": "stream",
     "text": [
      "thirty days of coding\n"
     ]
    }
   ],
   "source": [
    "#Example:\n",
    "challenge = 'thirty days of python'\n",
    "print(challenge.replace('python', 'coding')) # 'thirty days of coding'"
   ]
  },
  {
   "cell_type": "markdown",
   "id": "7cd7dd63",
   "metadata": {},
   "source": [
    "# `split()` Method\n",
    "\n",
    "The `split()` method is a string method in Python used to split a string into a list of substrings, using a specified separator as a splitting point. If no separator is provided, it splits the string using whitespace characters as the default separator.\n",
    "\n",
    "- `split([separator[, maxsplit]])`: Returns a list of substrings created by splitting the string at the specified `separator`. The optional `maxsplit` parameter controls the maximum number of splits.\n",
    "\n",
    "Example:\n",
    "\n",
    "```python\n",
    "text = \"Python is a versatile programming language\"\n",
    "words = text.split()\n",
    "print(words)\n",
    "# Output: ['Python', 'is', 'a', 'versatile', 'programming', 'language']\n",
    "\n",
    "csv_data = \"apple,banana,orange,kiwi\"\n",
    "fruits = csv_data.split(',')\n",
    "print(fruits)\n",
    "# Output: ['apple', 'banana', 'orange', 'kiwi']\n",
    "\n",
    "sentence = \"Python is great. Python is versatile. Python is fun.\"\n",
    "sentences = sentence.split('. ')\n",
    "print(sentences)\n",
    "# Output: ['Python is great', 'Python is versatile', 'Python is fun.']\n"
   ]
  },
  {
   "cell_type": "code",
   "execution_count": 28,
   "id": "cc2bcf99",
   "metadata": {},
   "outputs": [
    {
     "name": "stdout",
     "output_type": "stream",
     "text": [
      "['thirty', 'days', 'of', 'python']\n",
      "['thirty', 'days', 'of', 'python']\n"
     ]
    }
   ],
   "source": [
    "#Example:\n",
    "challenge = 'thirty days of python'\n",
    "print(challenge.split()) # ['thirty', 'days', 'of', 'python']\n",
    "challenge = 'thirty, days, of, python'\n",
    "print(challenge.split(', ')) # ['thirty', 'days', 'of', 'python']"
   ]
  },
  {
   "cell_type": "markdown",
   "id": "57f849e5",
   "metadata": {},
   "source": [
    "# `title()` Method\n",
    "\n",
    "The `title()` method is a string method in Python used to convert a string into title case, where the first character of each word is capitalized and the rest of the characters are in lowercase.\n",
    "\n",
    "- `title()`: Returns a new string with title casing applied.\n",
    "\n",
    "Example:\n",
    "\n",
    "```python\n",
    "text = \"python is a versatile programming language\"\n",
    "title_case_text = text.title()\n",
    "print(title_case_text)\n",
    "# Output: \"Python Is A Versatile Programming Language\"\n",
    "\n",
    "phrase = \"the quick brown fox\"\n",
    "title_case_phrase = phrase.title()\n",
    "print(title_case_phrase)\n",
    "# Output: \"The Quick Brown Fox\"\n"
   ]
  },
  {
   "cell_type": "code",
   "execution_count": 29,
   "id": "17216261",
   "metadata": {},
   "outputs": [
    {
     "name": "stdout",
     "output_type": "stream",
     "text": [
      "Thirty Days Of Python\n"
     ]
    }
   ],
   "source": [
    "#Example:\n",
    "challenge = 'thirty days of python'\n",
    "print(challenge.title()) # Thirty Days Of Python"
   ]
  },
  {
   "cell_type": "markdown",
   "id": "649401fb",
   "metadata": {},
   "source": [
    "# `swapcase()` Method\n",
    "\n",
    "The `swapcase()` method is a string method in Python used to transform a string by converting all uppercase characters to lowercase and all lowercase characters to uppercase, effectively swapping the case of each character.\n",
    "\n",
    "- `swapcase()`: Returns a new string with the case of each character swapped.\n",
    "\n",
    "Example:\n",
    "\n",
    "```python\n",
    "text = \"Python Is Fun\"\n",
    "swapped_text = text.swapcase()\n",
    "print(swapped_text)\n",
    "# Output: \"pYTHON iS fUN\"\n",
    "\n",
    "sentence = \"tHIS is a TeST sEnTEnCE.\"\n",
    "swapped_sentence = sentence.swapcase()\n",
    "print(swapped_sentence)\n",
    "# Output: \"This IS A tEst SenTenCe.\"\n"
   ]
  },
  {
   "cell_type": "code",
   "execution_count": 1,
   "id": "13f23125",
   "metadata": {},
   "outputs": [
    {
     "name": "stdout",
     "output_type": "stream",
     "text": [
      "THIRTY DAYS OF PYTHON\n",
      "tHIRTY dAYS oF pYTHON\n"
     ]
    }
   ],
   "source": [
    "#Example:\n",
    "challenge = 'thirty days of python'\n",
    "print(challenge.swapcase())   # THIRTY DAYS OF PYTHON\n",
    "challenge = 'Thirty Days Of Python'\n",
    "print(challenge.swapcase())  # tHIRTY dAYS oF pYTHON"
   ]
  },
  {
   "cell_type": "markdown",
   "id": "d3d8c30a",
   "metadata": {},
   "source": [
    "# `startswith()` Method\n",
    "\n",
    "The `startswith()` method is a string method in Python used to check if a given string starts with a specified prefix or substring.\n",
    "\n",
    "- `startswith(prefix[, start[, end]])`: Returns `True` if the string begins with the specified `prefix`, within the optional `start` and `end` parameters; otherwise, it returns `False`.\n",
    "\n",
    "Example:\n",
    "\n",
    "```python\n",
    "text = \"Python is a versatile programming language\"\n",
    "result1 = text.startswith(\"Python\")\n",
    "print(result1)  # Output: True\n",
    "\n",
    "result2 = text.startswith(\"programming\", 11)  # Start checking from index 11\n",
    "print(result2)  # Output: True\n",
    "\n",
    "result3 = text.startswith(\"language\", 24, 29)  # Start and end indices specified\n",
    "print(result3)  # Output: True\n",
    "\n",
    "result4 = text.startswith(\"versatile\", 18, 24)  # Does not start at the specified index\n",
    "print(result4)  # Output: False\n"
   ]
  },
  {
   "cell_type": "code",
   "execution_count": 4,
   "id": "bf3377bf",
   "metadata": {},
   "outputs": [
    {
     "name": "stdout",
     "output_type": "stream",
     "text": [
      "True\n",
      "False\n"
     ]
    }
   ],
   "source": [
    "#Example:\n",
    "challenge = 'thirty days of python'\n",
    "print(challenge.startswith('thirty')) # True\n",
    "\n",
    "challenge = '30 days of python'\n",
    "print(challenge.startswith('thirty')) # False"
   ]
  },
  {
   "cell_type": "markdown",
   "id": "b523e4a5",
   "metadata": {},
   "source": [
    "# Exercises- Day4"
   ]
  },
  {
   "cell_type": "code",
   "execution_count": 7,
   "id": "285a0f5f",
   "metadata": {},
   "outputs": [
    {
     "name": "stdout",
     "output_type": "stream",
     "text": [
      "Thirty Days Of Python\n"
     ]
    }
   ],
   "source": [
    "#Exercises:\n",
    "# 1. Concatenate the string 'Thirty', 'Days', 'Of', 'Python' to a single string, 'Thirty Days Of Python'.\n",
    "string1 = 'Thirty'\n",
    "string2 = 'Days'\n",
    "string3 = 'Of'\n",
    "string4 = 'Python'\n",
    "result = string1+' '+string2+' '+ string3+' '+string4\n",
    "print(result)"
   ]
  },
  {
   "cell_type": "code",
   "execution_count": 8,
   "id": "a65408e6",
   "metadata": {},
   "outputs": [
    {
     "name": "stdout",
     "output_type": "stream",
     "text": [
      "Coding For All\n"
     ]
    }
   ],
   "source": [
    "#Concatenate the string 'Coding', 'For' , 'All' to a single string, 'Coding For All'.\n",
    "string1 = 'Coding'\n",
    "string2 = 'For'\n",
    "string3 = 'All'\n",
    "\n",
    "result = string1 + ' ' + string2 + ' ' + string3\n",
    "\n",
    "print(result)\n"
   ]
  },
  {
   "cell_type": "code",
   "execution_count": 13,
   "id": "6ed38bd9",
   "metadata": {},
   "outputs": [
    {
     "name": "stdout",
     "output_type": "stream",
     "text": [
      "Coding For All\n",
      "14\n"
     ]
    }
   ],
   "source": [
    "# Declare a variable named company and assign it to an initial value \"Coding For All\".\n",
    "company = \"Coding For All\"\n",
    "#Print the variable company using print().\n",
    "print(company)\n",
    "#Print the length of the company string using len() method and print().\n",
    "print(len(company))\n"
   ]
  },
  {
   "cell_type": "code",
   "execution_count": 15,
   "id": "b983c40e",
   "metadata": {},
   "outputs": [
    {
     "name": "stdout",
     "output_type": "stream",
     "text": [
      "CODING FOR ALL\n"
     ]
    }
   ],
   "source": [
    "#Change all the characters to uppercase letters using upper() method.\n",
    "company = \"Coding For All\"\n",
    "print (company.upper())"
   ]
  },
  {
   "cell_type": "code",
   "execution_count": 16,
   "id": "ab0b4cde",
   "metadata": {},
   "outputs": [
    {
     "name": "stdout",
     "output_type": "stream",
     "text": [
      "coding for all\n"
     ]
    }
   ],
   "source": [
    "#Change all the characters to lowercase letters using lower() method.\n",
    "company = \"Coding For All\"\n",
    "print(company.lower())"
   ]
  },
  {
   "cell_type": "code",
   "execution_count": 17,
   "id": "3689710a",
   "metadata": {},
   "outputs": [
    {
     "name": "stdout",
     "output_type": "stream",
     "text": [
      "Capitalized: Coding for all\n",
      "Title Case: Coding For All\n",
      "Swapped Case: cODING fOR aLL\n"
     ]
    }
   ],
   "source": [
    "#Use capitalize(), title(), swapcase() methods to format the value of the string Coding For All.\n",
    "\n",
    "company = \"Coding For All\"\n",
    "\n",
    "# Capitalize the first letter of each word\n",
    "capitalized = company.capitalize()\n",
    "print(\"Capitalized:\", capitalized)\n",
    "\n",
    "# Convert to title case (capitalize the first letter of each word)\n",
    "title_case = company.title()\n",
    "print(\"Title Case:\", title_case)\n",
    "\n",
    "# Swap the case of all characters\n",
    "swapped_case = company.swapcase()\n",
    "print(\"Swapped Case:\", swapped_case)\n"
   ]
  },
  {
   "cell_type": "code",
   "execution_count": 18,
   "id": "5ff311cd",
   "metadata": {},
   "outputs": [
    {
     "name": "stdout",
     "output_type": "stream",
     "text": [
      "Coding\n"
     ]
    }
   ],
   "source": [
    "#Cut(slice) out the first word of Coding For All string.\n",
    "\n",
    "\n",
    "company = \"Coding For All\"\n",
    "\n",
    "# Slice out the first word\n",
    "first_word = company.split()[0]\n",
    "\n",
    "print(first_word)\n"
   ]
  },
  {
   "cell_type": "code",
   "execution_count": 19,
   "id": "d1766c75",
   "metadata": {},
   "outputs": [
    {
     "name": "stdout",
     "output_type": "stream",
     "text": [
      "Found 'Coding' at index: 0\n",
      "Found 'Coding' at index: 0\n",
      "'Coding' found in the string\n"
     ]
    }
   ],
   "source": [
    "#Check if Coding For All string contains a word Coding using the method index, find or other methods.\n",
    "\n",
    "company = \"Coding For All\"\n",
    "\n",
    "# Using index() method\n",
    "if \"Coding\" in company:\n",
    "    index = company.index(\"Coding\")\n",
    "    print(\"Found 'Coding' at index:\", index)\n",
    "else:\n",
    "    print(\"'Coding' not found\")\n",
    "    \n",
    "# using find()\n",
    "company = \"Coding For All\"\n",
    "\n",
    "# Using find() method\n",
    "index = company.find(\"Coding\")\n",
    "if index != -1:\n",
    "    print(\"Found 'Coding' at index:\", index)\n",
    "else:\n",
    "    print(\"'Coding' not found\")\n",
    "company = \"Coding For All\"\n",
    "\n",
    "# Using the 'in' keyword\n",
    "if \"Coding\" in company:\n",
    "    print(\"'Coding' found in the string\")\n",
    "else:\n",
    "    print(\"'Coding' not found\")\n"
   ]
  },
  {
   "cell_type": "code",
   "execution_count": null,
   "id": "85ad932d",
   "metadata": {},
   "outputs": [],
   "source": []
  }
 ],
 "metadata": {
  "kernelspec": {
   "display_name": "Python 3 (ipykernel)",
   "language": "python",
   "name": "python3"
  },
  "language_info": {
   "codemirror_mode": {
    "name": "ipython",
    "version": 3
   },
   "file_extension": ".py",
   "mimetype": "text/x-python",
   "name": "python",
   "nbconvert_exporter": "python",
   "pygments_lexer": "ipython3",
   "version": "3.9.13"
  }
 },
 "nbformat": 4,
 "nbformat_minor": 5
}
