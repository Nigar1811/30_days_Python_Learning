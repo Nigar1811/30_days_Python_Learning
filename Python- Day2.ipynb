{
 "cells": [
  {
   "cell_type": "code",
   "execution_count": 2,
   "id": "789dd5fe",
   "metadata": {},
   "outputs": [
    {
     "name": "stdout",
     "output_type": "stream",
     "text": [
      "Firstname: Asabeneh\n",
      "First name length: 8\n",
      "Last name: 7\n",
      "Last name length: 7\n",
      "Country: USA\n",
      "City: Greenville\n",
      "Age: 150\n",
      "Married:  True\n",
      "Skills: ['HTML', 'CSS', 'JS', 'PYTHON']\n",
      "Person information: {'firstname': 'Asabeneh', 'lastname': 'Yetayeh', 'country': 'USA', 'city': 'Greenville'}\n"
     ]
    }
   ],
   "source": [
    "# day 2 python - variables\n",
    "# printing the values stored in the variables\n",
    "\n",
    "#Variables store data in a computer memory. Mnemonic variables are recommended to use in many programming languages. A mnemonic variable is a variable name that can be easily remembered and associated. A variable refers to a memory address in which data is stored. Number at the beginning, special character, hyphen are not allowed when naming a variable. A variable can have a short name (like x, y, z), but a more descriptive name (firstname, lastname, age, country) is highly recommended.\n",
    "\n",
    "#Python Variable Name Rules\n",
    "\n",
    "#A variable name must start with a letter or the underscore character\n",
    "#A variable name cannot start with a number\n",
    "#A variable name can only contain alpha-numeric characters and underscores (A-z, 0-9, and _ )\n",
    "#Variable names are case-sensitive (firstname, Firstname, FirstName and FIRSTNAME) are different variables) \n",
    "\n",
    "# variable in python\n",
    "first_name = 'Asabeneh'\n",
    "last_name = 'Yetayeh'\n",
    "country = 'USA'\n",
    "city = 'Greenville'\n",
    "age = 150\n",
    "is_married = True\n",
    "skills = ['HTML', 'CSS', 'JS', 'PYTHON']\n",
    "person_info = {\n",
    "    'firstname': 'Asabeneh',\n",
    "    'lastname': 'Yetayeh',\n",
    "    'country': 'USA',\n",
    "    'city': 'Greenville'\n",
    "}\n",
    "\n",
    "print('Firstname:', first_name)\n",
    "print('First name length:', len(first_name))\n",
    "print('Last name:', len(last_name))\n",
    "print('Last name length:', len(last_name))\n",
    "print('Country:', country)\n",
    "print('City:', city)\n",
    "print('Age:', age)\n",
    "print('Married: ', is_married)\n",
    "print('Skills:', skills)\n",
    "print('Person information:', person_info)\n",
    "\n",
    "\n"
   ]
  },
  {
   "cell_type": "code",
   "execution_count": 4,
   "id": "d0fdf43d",
   "metadata": {},
   "outputs": [
    {
     "name": "stdout",
     "output_type": "stream",
     "text": [
      "Asabeneh Yetayeh USA 150 True\n",
      "First name: Asabeneh\n",
      "Last name: Yetayeh\n",
      "Country: USA\n",
      "Age: 150\n",
      "Married: True\n"
     ]
    }
   ],
   "source": [
    "# declaring Multiple Variable in a Line - Multiple variable can also be declared in one line:\n",
    "#first_name, last_name, country, age, is_married = 'Asabeneh', 'Yetayeh', 'USA'\n",
    "print(first_name, last_name, country, age, is_married)\n",
    "print('First name:', first_name)\n",
    "print('Last name:', last_name)\n",
    "print('Country:', country)\n",
    "print('Age:', age)\n",
    "print('Married:', is_married)\n"
   ]
  },
  {
   "cell_type": "code",
   "execution_count": 5,
   "id": "beadc1ea",
   "metadata": {},
   "outputs": [
    {
     "name": "stdout",
     "output_type": "stream",
     "text": [
      "What is your name: Nigar\n",
      "How old are you? 25\n",
      "Nigar\n",
      "25\n"
     ]
    }
   ],
   "source": [
    "# Getting user input using the input() built-in function. Let us assign the data we get from a user into first_name and age variables. Example:\n",
    "first_name = input('What is your name: ')\n",
    "age = input('How old are you? ')\n",
    "\n",
    "print(first_name)\n",
    "print(age)"
   ]
  },
  {
   "cell_type": "code",
   "execution_count": 6,
   "id": "b4581fb0",
   "metadata": {},
   "outputs": [
    {
     "name": "stdout",
     "output_type": "stream",
     "text": [
      "<class 'str'>\n",
      "<class 'str'>\n",
      "<class 'int'>\n",
      "<class 'float'>\n",
      "<class 'complex'>\n",
      "<class 'bool'>\n",
      "<class 'list'>\n",
      "<class 'dict'>\n",
      "<class 'tuple'>\n",
      "<class 'zip'>\n"
     ]
    }
   ],
   "source": [
    "# Data Type\n",
    "# There are several data types in Python. To identify the data type we use the type built-in function. \n",
    "#I would like to ask you to focus on understanding different data types very well. \n",
    "#When it comes to programming, it is all about data types. I introduced data types at the very beginning and it comes again, because every topic is related to data types.\n",
    "#We will cover data types in more detail in their respective sections\n",
    "\n",
    "# Different python data types\n",
    "# Let's declare variables with various data types\n",
    "\n",
    "first_name = 'Asabeneh'     # str\n",
    "last_name = 'Yetayeh'       # str\n",
    "country = 'Finland'         # str\n",
    "city= 'Helsinki'            # str\n",
    "age = 250                   # int, it is not my real age, don't worry about it\n",
    "\n",
    "# Printing out types\n",
    "print(type('Asabeneh'))     # str\n",
    "print(type(first_name))     # str\n",
    "print(type(10))             # int\n",
    "print(type(3.14))           # float\n",
    "print(type(1 + 1j))         # complex\n",
    "print(type(True))           # bool\n",
    "print(type([1, 2, 3, 4]))     # list\n",
    "print(type({'name':'Asabeneh','age':250, 'is_married':250}))    # dict\n",
    "print(type((1,2)))                                              # tuple\n",
    "print(type(zip([1,2],[3,4])))                                   # set"
   ]
  },
  {
   "cell_type": "code",
   "execution_count": 9,
   "id": "ac699ec0",
   "metadata": {
    "scrolled": true
   },
   "outputs": [
    {
     "name": "stdout",
     "output_type": "stream",
     "text": [
      "num_int: 10\n",
      "num_float: 10.0\n",
      "gravity: 9.81\n",
      "gravity_int: 9\n",
      "num_int: 10\n",
      "num_str: 10\n",
      "num_str: 10.6\n",
      "num_int_from_str: 10\n",
      "num_float_from_str: 10.6\n",
      "first_name: Nigar\n",
      "first_name_to_list: ['N', 'i', 'g', 'a', 'r']\n"
     ]
    }
   ],
   "source": [
    "# int to float\n",
    "num_int = 10\n",
    "print('num_int:', num_int)\n",
    "num_float = float(num_int)\n",
    "print('num_float:', num_float)\n",
    "\n",
    "# float to int\n",
    "gravity = 9.81\n",
    "print('gravity:', gravity)\n",
    "gravity_int = int(gravity)\n",
    "print('gravity_int:', gravity_int)\n",
    "\n",
    "# int to str\n",
    "num_int = 10\n",
    "print('num_int:', num_int)\n",
    "num_str = str(num_int)\n",
    "print('num_str:', num_str)\n",
    "\n",
    "# str to int or float\n",
    "num_str = '10.6'\n",
    "print('num_str:', num_str)\n",
    "num_int_from_str = int(float(num_str))  # Convert string to float first, then to int\n",
    "print('num_int_from_str:', num_int_from_str)\n",
    "num_float_from_str = float(num_str)\n",
    "print('num_float_from_str:', num_float_from_str)\n",
    "\n",
    "# str to list\n",
    "first_name = 'Nigar'\n",
    "print('first_name:', first_name)\n",
    "first_name_to_list = list(first_name)\n",
    "print('first_name_to_list:', first_name_to_list)\n"
   ]
  },
  {
   "cell_type": "code",
   "execution_count": null,
   "id": "c80103bb",
   "metadata": {},
   "outputs": [],
   "source": [
    "# Numbers\n",
    "Number data types in Python:\n",
    "\n",
    "Integers: Integer(negative, zero and positive) numbers Example: ... -3, -2, -1, 0, 1, 2, 3 ...\n",
    "\n",
    "Floating Point Numbers(Decimal numbers) Example: ... -3.5, -2.25, -1.0, 0.0, 1.1, 2.2, 3.5 ...\n",
    "\n",
    "Complex Numbers Example: 1 + j, 2 + 4j, 1 - 1j"
   ]
  },
  {
   "cell_type": "code",
   "execution_count": 12,
   "id": "a6733b07",
   "metadata": {},
   "outputs": [
    {
     "name": "stdout",
     "output_type": "stream",
     "text": [
      "First_name: Nigar\n",
      "Last_name: Sultana\n",
      "Age: 25\n",
      "City: Greenville\n"
     ]
    }
   ],
   "source": [
    "# Exercises\n",
    "# 2nd question - Write a python comment saying 'Day 2: 30 Days of python programming'\n",
    "\n",
    "# 'Day 2: 30 Days of Python Programming'\n",
    "\n",
    "# Declare a first name variable and assign a value to it\n",
    "first_name = 'Nigar'\n",
    "\n",
    "#Declare a last name variable and assign a value to it\n",
    "last_name = 'Sultana'\n",
    "\n",
    "#Declare a full name variable and assign a value to it\n",
    "full_name = 'Nigar Sultana'\n",
    "\n",
    "#Declare a country variable and assign a value to it\n",
    "country = 'USA'\n",
    "\n",
    "#Declare a city variable and assign a value to it\n",
    "city = 'Greenville'\n",
    "\n",
    "#Declare an age variable and assign a value to it\n",
    "age = 25\n",
    "\n",
    "#Declare a year variable and assign a value to it\n",
    "year = 2023\n",
    "\n",
    "#Declare a variable is_married and assign a value to it\n",
    "is_married = False\n",
    "\n",
    "#Declare a variable is_true and assign a value to it\n",
    "is_true = 'Yes'\n",
    "\n",
    "\n",
    "#Declare a variable is_light_on and assign a value to it\n",
    "is_light_on = 'No'\n",
    "\n",
    "\n",
    "#Declare multiple variable on one line\n",
    "first_name, last_name, age, city = 'Nigar', 'Sultana', 25, 'Greenville'\n",
    "print('First_name:', first_name)\n",
    "print('Last_name:', last_name)\n",
    "print('Age:',age)\n",
    "print('City:',city)\n",
    "\n",
    "\n",
    "\n",
    "\n"
   ]
  },
  {
   "cell_type": "code",
   "execution_count": 15,
   "id": "ae171590",
   "metadata": {},
   "outputs": [
    {
     "name": "stdout",
     "output_type": "stream",
     "text": [
      "Type of var1: <class 'int'>\n",
      "Type of var2: <class 'str'>\n",
      "Type of var3: <class 'float'>\n",
      "Type of var4: <class 'str'>\n",
      "Type of var5: <class 'list'>\n"
     ]
    }
   ],
   "source": [
    "# Exercises: Level 2\n",
    "\n",
    "# Check the data type of all your variables using type() built-in function\n",
    "var1 = 9\n",
    "print('Type of var1:', type(var1))\n",
    "\n",
    "var2 = 'nigar'\n",
    "print('Type of var2:', type(var2))\n",
    "\n",
    "var3 = 0.98\n",
    "print('Type of var3:', type(var3))\n",
    "\n",
    "var4 = 'Nigar'\n",
    "print('Type of var4:', type(var4))\n",
    "\n",
    "var5 = [1, 3]\n",
    "print('Type of var5:', type(var5))\n"
   ]
  },
  {
   "cell_type": "code",
   "execution_count": 16,
   "id": "e14c3acb",
   "metadata": {},
   "outputs": [
    {
     "name": "stdout",
     "output_type": "stream",
     "text": [
      "5\n"
     ]
    }
   ],
   "source": [
    "#Using the len() built-in function, find the length of your first name\n",
    "first_name = 'Nigar'\n",
    "print(len(first_name))"
   ]
  },
  {
   "cell_type": "code",
   "execution_count": 20,
   "id": "5382450d",
   "metadata": {},
   "outputs": [
    {
     "name": "stdout",
     "output_type": "stream",
     "text": [
      "length of first_name and last_name is different\n"
     ]
    }
   ],
   "source": [
    "# Compare the length of your first name and your last name\n",
    "first_name = 'Nigar'\n",
    "last_name = ' Sultana'\n",
    "if len(first_name)== len(last_name):\n",
    " print('length of first_name and last_name is equal')   \n",
    "else:\n",
    "  print('length of first_name and last_name is different')  \n"
   ]
  },
  {
   "cell_type": "code",
   "execution_count": 32,
   "id": "86226ada",
   "metadata": {},
   "outputs": [
    {
     "name": "stdout",
     "output_type": "stream",
     "text": [
      "9\n",
      "1\n",
      "20\n",
      "1.25\n",
      "1\n",
      "625\n",
      "1\n"
     ]
    }
   ],
   "source": [
    "# Declare 5 as num_one and 4 as num_two\n",
    "# 1. Add num_one and num_two and assign the value to a variable total\n",
    "num_one = 5\n",
    "num_two = 4\n",
    "total = num_one + num_two\n",
    "print(total)\n",
    "\n",
    "# Subtract num_two from num_one and assign the value to a variable diff\n",
    "num_one = 5\n",
    "num_two = 4\n",
    "diff = num_one - num_two\n",
    "print(diff)\n",
    "\n",
    "#Multiply num_two and num_one and assign the value to a variable product\n",
    "num_one = 5\n",
    "num_two = 4\n",
    "product = num_one * num_two\n",
    "print(product)\n",
    "\n",
    "#Divide num_one by num_two and assign the value to a variable division\n",
    "num_one = 5\n",
    "num_two = 4\n",
    "division = num_one / num_two\n",
    "print(division)\n",
    "\n",
    "#Use modulus division to find num_two divided by num_one and assign the value to a variable remainder\n",
    "num_one = 5\n",
    "num_two = 4\n",
    "remainder = num_one % num_two\n",
    "print(remainder)\n",
    "\n",
    "#Calculate num_one to the power of num_two and assign the value to a variable exp\n",
    "num_one = 5\n",
    "num_two = 4\n",
    "exp = num_one ** num_two\n",
    "print(exp)\n",
    "\n",
    "#Find floor division of num_one by num_two and assign the value to a variable floor_division\n",
    "num_one = 5\n",
    "num_two = 4\n",
    "floor_division = num_one // num_two\n",
    "print(floor_division)"
   ]
  },
  {
   "cell_type": "code",
   "execution_count": 35,
   "id": "350b0f5d",
   "metadata": {},
   "outputs": [
    {
     "name": "stdout",
     "output_type": "stream",
     "text": [
      "2827.4333882308138\n"
     ]
    }
   ],
   "source": [
    "# The radius of a circle is 30 meters.\n",
    "# Calculate the area of a circle and assign the value to a variable name of area_of_circle\n",
    "import math\n",
    "\n",
    "radius = 30\n",
    "area_of_circle = math.pi * (radius ** 2) # pi*r^2\n",
    "print(area_of_circle)\n",
    "\n"
   ]
  },
  {
   "cell_type": "code",
   "execution_count": 36,
   "id": "966baeee",
   "metadata": {},
   "outputs": [
    {
     "name": "stdout",
     "output_type": "stream",
     "text": [
      "188.49555921538757\n"
     ]
    }
   ],
   "source": [
    "#Calculate the circumference of a circle and assign the value to a variable name of circum_of_circle\n",
    "import math\n",
    "\n",
    "radius = 30\n",
    "circum_of_circle = 2 * math.pi * radius\n",
    "print(circum_of_circle)\n"
   ]
  },
  {
   "cell_type": "code",
   "execution_count": 37,
   "id": "5618b6a8",
   "metadata": {},
   "outputs": [
    {
     "name": "stdout",
     "output_type": "stream",
     "text": [
      "Enter the radius of the circle: 30\n",
      "The area of the circle with radius 30.0 is: 2827.4333882308138\n"
     ]
    }
   ],
   "source": [
    "#Take radius as user input and calculate the area.\n",
    "import math\n",
    "\n",
    "# Take the radius as user input\n",
    "radius = float(input(\"Enter the radius of the circle: \"))\n",
    "\n",
    "# Calculate the area of the circle\n",
    "area_of_circle = math.pi * (radius ** 2)\n",
    "\n",
    "# Print the calculated area\n",
    "print(\"The area of the circle with radius\", radius, \"is:\", area_of_circle)\n"
   ]
  },
  {
   "cell_type": "code",
   "execution_count": 38,
   "id": "24a328a6",
   "metadata": {},
   "outputs": [
    {
     "name": "stdout",
     "output_type": "stream",
     "text": [
      "Enter your first name: nigar\n",
      "Enter your last name: sultana\n",
      "Enter your country: USA\n",
      "Enter your age: 25\n",
      "First Name: nigar\n",
      "Last Name: sultana\n",
      "Country: USA\n",
      "Age: 25\n"
     ]
    }
   ],
   "source": [
    "# Use the built-in input function to get first name, last name, country and age from a user and store the value to their corresponding variable names\n",
    "# Get user input for first name\n",
    "first_name = input(\"Enter your first name: \")\n",
    "\n",
    "# Get user input for last name\n",
    "last_name = input(\"Enter your last name: \")\n",
    "\n",
    "# Get user input for country\n",
    "country = input(\"Enter your country: \")\n",
    "\n",
    "# Get user input for age (as an integer)\n",
    "age = int(input(\"Enter your age: \"))\n",
    "\n",
    "# Print the values entered by the user\n",
    "print(\"First Name:\", first_name)\n",
    "print(\"Last Name:\", last_name)\n",
    "print(\"Country:\", country)\n",
    "print(\"Age:\", age)\n"
   ]
  },
  {
   "cell_type": "code",
   "execution_count": null,
   "id": "8c045a18",
   "metadata": {},
   "outputs": [],
   "source": []
  }
 ],
 "metadata": {
  "kernelspec": {
   "display_name": "Python 3 (ipykernel)",
   "language": "python",
   "name": "python3"
  },
  "language_info": {
   "codemirror_mode": {
    "name": "ipython",
    "version": 3
   },
   "file_extension": ".py",
   "mimetype": "text/x-python",
   "name": "python",
   "nbconvert_exporter": "python",
   "pygments_lexer": "ipython3",
   "version": "3.9.13"
  }
 },
 "nbformat": 4,
 "nbformat_minor": 5
}
