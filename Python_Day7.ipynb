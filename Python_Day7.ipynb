{
  "nbformat": 4,
  "nbformat_minor": 0,
  "metadata": {
    "colab": {
      "provenance": []
    },
    "kernelspec": {
      "name": "python3",
      "display_name": "Python 3"
    },
    "language_info": {
      "name": "python"
    }
  },
  "cells": [
    {
      "cell_type": "markdown",
      "source": [
        "# Day 7 - Sets\n"
      ],
      "metadata": {
        "id": "ecu1G72A-lQj"
      }
    },
    {
      "cell_type": "markdown",
      "source": [
        "# Sets\n",
        "Set is a collection of items. Let me take you back to your elementary or high school Mathematics lesson. The Mathematics definition of a set can be applied also in Python. Set is a collection of unordered and un-indexed distinct elements. In Python set is used to store unique items, and it is possible to find the union, intersection, difference, symmetric difference, subset, super set and disjoint set among sets."
      ],
      "metadata": {
        "id": "7SnMCfGs-uGR"
      }
    },
    {
      "cell_type": "markdown",
      "source": [
        "# Creating a Set\n",
        "We use the set() built-in function."
      ],
      "metadata": {
        "id": "U335IbfF-zW-"
      }
    },
    {
      "cell_type": "code",
      "source": [
        "# Creating an empty set\n",
        "# Syntax\n",
        "st = set()"
      ],
      "metadata": {
        "id": "veQq3-ma-_kM"
      },
      "execution_count": 1,
      "outputs": []
    },
    {
      "cell_type": "code",
      "source": [
        "# Creating a sey with initial items\n",
        "# Syntax\n",
        "st = {'item1', 'item2', 'item3', 'item4'}"
      ],
      "metadata": {
        "id": "cBbojkdN_IIG"
      },
      "execution_count": 2,
      "outputs": []
    },
    {
      "cell_type": "code",
      "source": [
        "# Example\n",
        "# Syntax\n",
        "fruits = {'banana', 'orange', 'mango', 'lemon'}\n",
        "print(fruits)"
      ],
      "metadata": {
        "colab": {
          "base_uri": "https://localhost:8080/"
        },
        "id": "Bcxr0o_f_a3u",
        "outputId": "1603ae7c-a709-4b5f-d7c5-bb7b7bbd0495"
      },
      "execution_count": 4,
      "outputs": [
        {
          "output_type": "stream",
          "name": "stdout",
          "text": [
            "{'orange', 'mango', 'banana', 'lemon'}\n"
          ]
        }
      ]
    },
    {
      "cell_type": "code",
      "source": [
        "# Gettting Set's Length\n",
        "# We use len() method to find the length of a set\n",
        "# syntax\n",
        "st = {'item1', 'item2', 'item3', 'item4'}\n",
        "len(st)"
      ],
      "metadata": {
        "colab": {
          "base_uri": "https://localhost:8080/"
        },
        "id": "8lKbdvsz_rIJ",
        "outputId": "dd5bcc17-c068-4d0c-e574-64a3e5b8377e"
      },
      "execution_count": 5,
      "outputs": [
        {
          "output_type": "execute_result",
          "data": {
            "text/plain": [
              "4"
            ]
          },
          "metadata": {},
          "execution_count": 5
        }
      ]
    },
    {
      "cell_type": "code",
      "source": [
        "fruits = {'banana', 'orange', 'mango', 'lemon'}\n",
        "len(fruits)"
      ],
      "metadata": {
        "colab": {
          "base_uri": "https://localhost:8080/"
        },
        "id": "b6Lo-CxT_80D",
        "outputId": "4b2b2a1d-b48f-482f-82f2-3de8ada4878a"
      },
      "execution_count": 6,
      "outputs": [
        {
          "output_type": "execute_result",
          "data": {
            "text/plain": [
              "4"
            ]
          },
          "metadata": {},
          "execution_count": 6
        }
      ]
    },
    {
      "cell_type": "markdown",
      "source": [
        "# Accessing Items in a Set\n",
        "We use loops to access items. We will see this in loop section\n",
        "\n",
        "#Checking an Item\n",
        "To check if an item exist in a list we use in membership operator.\n",
        "\n"
      ],
      "metadata": {
        "id": "FYr3KjLTACx-"
      }
    },
    {
      "cell_type": "code",
      "source": [
        "# syntax\n",
        "st = {'item1', 'item2', 'item3', 'item4'}\n",
        "print(\"Does set st contain item3? \", 'item3' in st) # Does set st contain item3? True"
      ],
      "metadata": {
        "colab": {
          "base_uri": "https://localhost:8080/"
        },
        "id": "Wa8oMIPzAMwN",
        "outputId": "f42b521e-7000-4f8f-d40c-49bdf1a4fffe"
      },
      "execution_count": 7,
      "outputs": [
        {
          "output_type": "stream",
          "name": "stdout",
          "text": [
            "Does set st contain item3?  True\n"
          ]
        }
      ]
    },
    {
      "cell_type": "code",
      "source": [
        "fruits = {'banana', 'orange', 'mango', 'lemon'}\n",
        "print('mango' in fruits ) # True\n"
      ],
      "metadata": {
        "colab": {
          "base_uri": "https://localhost:8080/"
        },
        "id": "YUnpSGWuAg2g",
        "outputId": "4560ca5a-302b-47ec-be58-5d300f9523ac"
      },
      "execution_count": 8,
      "outputs": [
        {
          "output_type": "stream",
          "name": "stdout",
          "text": [
            "True\n"
          ]
        }
      ]
    },
    {
      "cell_type": "markdown",
      "source": [
        "# Adding Items to a Set\n",
        "Once a set is created we cannot change any items and we can also add additional items.\n",
        "\n",
        "Add one item using add()"
      ],
      "metadata": {
        "id": "IBiFt1ItAo50"
      }
    },
    {
      "cell_type": "code",
      "source": [
        "# Syntax\n",
        "st = {'item1', 'item2','item3', 'item4'}\n",
        "st.add('item5')\n",
        "print(st)"
      ],
      "metadata": {
        "colab": {
          "base_uri": "https://localhost:8080/"
        },
        "id": "jF8VMhubAojw",
        "outputId": "59ee3d18-28d4-4c83-ad05-0ba8ffda3c8e"
      },
      "execution_count": 10,
      "outputs": [
        {
          "output_type": "stream",
          "name": "stdout",
          "text": [
            "{'item1', 'item2', 'item3', 'item4', 'item5'}\n"
          ]
        }
      ]
    },
    {
      "cell_type": "code",
      "source": [
        "fruits = {'banana', 'orange', 'mango', 'lemon'}\n",
        "fruits.add('lime')\n",
        "print(fruits)"
      ],
      "metadata": {
        "colab": {
          "base_uri": "https://localhost:8080/"
        },
        "id": "ssktvF6wBGKz",
        "outputId": "e4fe78c0-008e-41b8-bd41-8ff2a4adcee3"
      },
      "execution_count": 12,
      "outputs": [
        {
          "output_type": "stream",
          "name": "stdout",
          "text": [
            "{'lime', 'banana', 'lemon', 'mango', 'orange'}\n"
          ]
        }
      ]
    },
    {
      "cell_type": "markdown",
      "source": [
        "Add multiple items using update() The update() allows to add multiple items to a set. The update() takes a list argument."
      ],
      "metadata": {
        "id": "c1OhbbqABNUw"
      }
    },
    {
      "cell_type": "code",
      "source": [
        "# syntax\n",
        "st = {'item1', 'item2', 'item3', 'item4'}\n",
        "st.update(['item5','item6','item7'])\n",
        "print(st)"
      ],
      "metadata": {
        "colab": {
          "base_uri": "https://localhost:8080/"
        },
        "id": "RTtgrIiYBP74",
        "outputId": "7bc68f7f-cc52-46d3-8cca-cb8c2ccd8775"
      },
      "execution_count": 13,
      "outputs": [
        {
          "output_type": "stream",
          "name": "stdout",
          "text": [
            "{'item1', 'item2', 'item3', 'item6', 'item4', 'item7', 'item5'}\n"
          ]
        }
      ]
    },
    {
      "cell_type": "code",
      "source": [
        "fruits = {'banana', 'orange', 'mango', 'lemon'}\n",
        "vegetables = ('tomato', 'potato', 'cabbage','onion', 'carrot')\n",
        "fruits.update(vegetables)\n"
      ],
      "metadata": {
        "id": "i1PaZ_pABY4Q"
      },
      "execution_count": 16,
      "outputs": []
    },
    {
      "cell_type": "markdown",
      "source": [
        "# Removing Items from a Set\n",
        "We can remove an item from a set using remove() method. If the item is not found remove() method will raise errors, so it is good to check if the item exist in the given set. However, discard() method doesn't raise any errors."
      ],
      "metadata": {
        "id": "DuO88QK5Bu0S"
      }
    },
    {
      "cell_type": "code",
      "source": [
        "# syntax\n",
        "st = {'item1', 'item2', 'item3', 'item4'}\n",
        "st.remove('item2')\n",
        "print(st)"
      ],
      "metadata": {
        "colab": {
          "base_uri": "https://localhost:8080/"
        },
        "id": "g2h4yZtmB0Vk",
        "outputId": "23105101-b3b6-46d7-9827-22d910f0f713"
      },
      "execution_count": 18,
      "outputs": [
        {
          "output_type": "stream",
          "name": "stdout",
          "text": [
            "{'item1', 'item4', 'item3'}\n"
          ]
        }
      ]
    },
    {
      "cell_type": "markdown",
      "source": [
        "The pop() methods remove a random item from a list and it returns the removed item.\n",
        "\n",
        "Example:"
      ],
      "metadata": {
        "id": "-HEuCtN6B8Ee"
      }
    },
    {
      "cell_type": "code",
      "source": [
        "fruits = {'banana', 'orange', 'mango', 'lemon'}\n",
        "fruits.pop()  # removes a random item from the set\n",
        "print(fruits)"
      ],
      "metadata": {
        "colab": {
          "base_uri": "https://localhost:8080/"
        },
        "id": "IGhV2GGYB_jY",
        "outputId": "fc06a481-1a9c-403c-95e7-b1a97ba6b555"
      },
      "execution_count": 19,
      "outputs": [
        {
          "output_type": "stream",
          "name": "stdout",
          "text": [
            "{'mango', 'banana', 'lemon'}\n"
          ]
        }
      ]
    },
    {
      "cell_type": "code",
      "source": [
        "# If we are interested in the removed item\n",
        "fruits = {'banana', 'orange', 'mango', 'lemon'}\n",
        "removed_item = fruits.pop()\n",
        "print(fruits)"
      ],
      "metadata": {
        "colab": {
          "base_uri": "https://localhost:8080/"
        },
        "id": "gS7v_M7DEmrr",
        "outputId": "bc9e4765-baa8-4581-b31c-438c3a623259"
      },
      "execution_count": 20,
      "outputs": [
        {
          "output_type": "stream",
          "name": "stdout",
          "text": [
            "{'mango', 'banana', 'lemon'}\n"
          ]
        }
      ]
    },
    {
      "cell_type": "markdown",
      "source": [
        "# Clearing Items in a Set\n",
        "If we want to clear or empty the set we use clear method.\n",
        "\n",
        "\n",
        "\n"
      ],
      "metadata": {
        "id": "YBS28aI8E3TQ"
      }
    },
    {
      "cell_type": "code",
      "source": [
        "# syntax\n",
        "st = {'item1', 'item2', 'item3', 'item4'}\n",
        "st.clear()\n",
        "print(st)"
      ],
      "metadata": {
        "colab": {
          "base_uri": "https://localhost:8080/"
        },
        "id": "EFygqXieE_NA",
        "outputId": "74427d14-9921-4fd1-c4c5-e41c5a3ef89a"
      },
      "execution_count": 22,
      "outputs": [
        {
          "output_type": "stream",
          "name": "stdout",
          "text": [
            "set()\n"
          ]
        }
      ]
    },
    {
      "cell_type": "code",
      "source": [
        "fruits = {'banana', 'orange', 'mango', 'lemon'}\n",
        "fruits.clear()\n",
        "print(fruits) # set()"
      ],
      "metadata": {
        "colab": {
          "base_uri": "https://localhost:8080/"
        },
        "id": "kbXg9BtuFFVT",
        "outputId": "01a69b2a-0f71-4732-c974-b9aae3ac9dc3"
      },
      "execution_count": 23,
      "outputs": [
        {
          "output_type": "stream",
          "name": "stdout",
          "text": [
            "set()\n"
          ]
        }
      ]
    },
    {
      "cell_type": "markdown",
      "source": [
        "# Deleting a Set\n",
        "If we want to delete the set itself we use del operator.\n",
        "\n"
      ],
      "metadata": {
        "id": "95Tq0azsFJwM"
      }
    },
    {
      "cell_type": "code",
      "source": [
        "# syntax\n",
        "st = {'item1', 'item2', 'item3', 'item4'}\n",
        "del st\n"
      ],
      "metadata": {
        "id": "39OZK4S5FNjT"
      },
      "execution_count": 25,
      "outputs": []
    },
    {
      "cell_type": "code",
      "source": [
        "fruits = {'banana', 'orange', 'mango', 'lemon'}\n",
        "del fruits"
      ],
      "metadata": {
        "id": "CcC3e-rlFVVJ"
      },
      "execution_count": 26,
      "outputs": []
    },
    {
      "cell_type": "markdown",
      "source": [
        "# Converting List to Set\n",
        "We can convert list to set and set to list. Converting list to set removes duplicates and only unique items will be reserved."
      ],
      "metadata": {
        "id": "s3flShUSFa8V"
      }
    },
    {
      "cell_type": "code",
      "source": [
        "# syntax\n",
        "lst = ['item1', 'item2', 'item3', 'item4', 'item1']\n",
        "st = set(lst)  # {'item2', 'item4', 'item1', 'item3'} - the order is random, because sets in general are unordered\n",
        "print(lst)"
      ],
      "metadata": {
        "colab": {
          "base_uri": "https://localhost:8080/"
        },
        "id": "kkYDqZ9gFdqQ",
        "outputId": "4548710b-4c40-45ac-da5f-2e9305a3b70a"
      },
      "execution_count": 28,
      "outputs": [
        {
          "output_type": "stream",
          "name": "stdout",
          "text": [
            "['item1', 'item2', 'item3', 'item4', 'item1']\n"
          ]
        }
      ]
    },
    {
      "cell_type": "code",
      "source": [
        "fruits = ['banana', 'orange', 'mango', 'lemon','orange', 'banana']\n",
        "fruits = set(fruits) # {'mango', 'lemon', 'banana', 'orange'}\n",
        "print(fruits)"
      ],
      "metadata": {
        "colab": {
          "base_uri": "https://localhost:8080/"
        },
        "id": "j05XbunXFsIQ",
        "outputId": "9344cea2-e4b2-4052-ea1a-ffbf6444713f"
      },
      "execution_count": 29,
      "outputs": [
        {
          "output_type": "stream",
          "name": "stdout",
          "text": [
            "{'orange', 'mango', 'banana', 'lemon'}\n"
          ]
        }
      ]
    },
    {
      "cell_type": "markdown",
      "source": [
        "# Joining Sets\n",
        "We can join two sets using the union() or update() method.\n",
        "\n",
        "Union This method returns a new set"
      ],
      "metadata": {
        "id": "hbpHcM9XFy0E"
      }
    },
    {
      "cell_type": "code",
      "source": [
        "# syntax\n",
        "st1 = {'item1', 'item2', 'item3', 'item4'}\n",
        "st2 = {'item5', 'item6', 'item7', 'item8'}\n",
        "st3 = st1.union(st2)\n",
        "print(st3)"
      ],
      "metadata": {
        "colab": {
          "base_uri": "https://localhost:8080/"
        },
        "id": "tp9z7sMVF5Oz",
        "outputId": "0d6390d6-99aa-4ec3-a7ef-608f41d095bb"
      },
      "execution_count": 30,
      "outputs": [
        {
          "output_type": "stream",
          "name": "stdout",
          "text": [
            "{'item1', 'item2', 'item3', 'item6', 'item4', 'item8', 'item7', 'item5'}\n"
          ]
        }
      ]
    },
    {
      "cell_type": "code",
      "source": [
        "fruits = {'banana', 'orange', 'mango', 'lemon'}\n",
        "vegetables = {'tomato', 'potato', 'cabbage','onion', 'carrot'}\n",
        "print(fruits.union(vegetables)) # {'lemon', 'carrot', 'tomato', 'banana', 'mango', 'orange', 'cabbage', 'potato', 'onion'}\n",
        "\n"
      ],
      "metadata": {
        "colab": {
          "base_uri": "https://localhost:8080/"
        },
        "id": "fuHdhKiCGAtS",
        "outputId": "ef75aeed-e6e1-4ee9-8826-6208b092f175"
      },
      "execution_count": 31,
      "outputs": [
        {
          "output_type": "stream",
          "name": "stdout",
          "text": [
            "{'potato', 'banana', 'cabbage', 'lemon', 'tomato', 'onion', 'mango', 'carrot', 'orange'}\n"
          ]
        }
      ]
    },
    {
      "cell_type": "code",
      "source": [
        "# Update This method inserts a set into a given set\n",
        "\n",
        "# syntax\n",
        "st1 = {'item1', 'item2', 'item3', 'item4'}\n",
        "st2 = {'item5', 'item6', 'item7', 'item8'}\n",
        "st1.update(st2) # st2 contents are added to st1\n"
      ],
      "metadata": {
        "id": "TGluqeaGHsrj"
      },
      "execution_count": 34,
      "outputs": []
    },
    {
      "cell_type": "code",
      "source": [
        "fruits = {'banana', 'orange', 'mango', 'lemon'}\n",
        "vegetables = {'tomato', 'potato', 'cabbage','onion', 'carrot'}\n",
        "fruits.update(vegetables)\n",
        "print(fruits) # {'lemon', 'carrot', 'tomato', 'banana', 'mango', 'orange', 'cabbage', 'potato', 'onion'}"
      ],
      "metadata": {
        "colab": {
          "base_uri": "https://localhost:8080/"
        },
        "id": "b3Svwue9H_qB",
        "outputId": "058a3398-1358-4d04-8c6d-5b3c585cf075"
      },
      "execution_count": 35,
      "outputs": [
        {
          "output_type": "stream",
          "name": "stdout",
          "text": [
            "{'potato', 'banana', 'cabbage', 'lemon', 'tomato', 'onion', 'mango', 'carrot', 'orange'}\n"
          ]
        }
      ]
    },
    {
      "cell_type": "markdown",
      "source": [
        "# Finding Intersection Items\n",
        "Intersection returns a set of items which are in both the sets. See the example"
      ],
      "metadata": {
        "id": "iNLJp5z5IEvO"
      }
    },
    {
      "cell_type": "code",
      "source": [
        "# syntax\n",
        "st1 = {'item1', 'item2', 'item3', 'item4'}\n",
        "st2 = {'item3', 'item2'}\n",
        "st1.intersection(st2) # {'item3', 'item2'}"
      ],
      "metadata": {
        "colab": {
          "base_uri": "https://localhost:8080/"
        },
        "id": "-ONy4QU5IJSR",
        "outputId": "b094e0f5-9e52-4e94-b8f9-70348ca1c227"
      },
      "execution_count": 36,
      "outputs": [
        {
          "output_type": "execute_result",
          "data": {
            "text/plain": [
              "{'item2', 'item3'}"
            ]
          },
          "metadata": {},
          "execution_count": 36
        }
      ]
    },
    {
      "cell_type": "code",
      "source": [
        "whole_numbers = {0, 1, 2, 3, 4, 5, 6, 7, 8, 9, 10}\n",
        "even_numbers = {0, 2, 4, 6, 8, 10}\n",
        "whole_numbers.intersection(even_numbers) # {0, 2, 4, 6, 8, 10}\n",
        "\n",
        "python = {'p', 'y', 't', 'h', 'o','n'}\n",
        "dragon = {'d', 'r', 'a', 'g', 'o','n'}\n",
        "python.intersection(dragon)     # {'o', 'n'}"
      ],
      "metadata": {
        "colab": {
          "base_uri": "https://localhost:8080/"
        },
        "id": "MaPbrV63K3QT",
        "outputId": "3537d3cf-2604-4b97-bebb-a8e3ebefae59"
      },
      "execution_count": 37,
      "outputs": [
        {
          "output_type": "execute_result",
          "data": {
            "text/plain": [
              "{'n', 'o'}"
            ]
          },
          "metadata": {},
          "execution_count": 37
        }
      ]
    },
    {
      "cell_type": "markdown",
      "source": [
        "# Checking Subset and Super Set\n",
        "A set can be a subset or super set of other sets:\n",
        "\n",
        "Subset: issubset()\n",
        "Super set: issuperset"
      ],
      "metadata": {
        "id": "lZWjcWmAMlGS"
      }
    },
    {
      "cell_type": "code",
      "source": [
        "# syntax\n",
        "st1 = {'item1', 'item2', 'item3', 'item4'}\n",
        "st2 = {'item2', 'item3'}\n",
        "st2.issubset(st1) # True\n",
        "st1.issuperset(st2) # True"
      ],
      "metadata": {
        "colab": {
          "base_uri": "https://localhost:8080/"
        },
        "id": "qb28Tgo6Mt_l",
        "outputId": "787d22ac-e493-4801-873d-f4f9705f452c"
      },
      "execution_count": 38,
      "outputs": [
        {
          "output_type": "execute_result",
          "data": {
            "text/plain": [
              "True"
            ]
          },
          "metadata": {},
          "execution_count": 38
        }
      ]
    },
    {
      "cell_type": "code",
      "source": [
        "whole_numbers = {0, 1, 2, 3, 4, 5, 6, 7, 8, 9, 10}\n",
        "even_numbers = {0, 2, 4, 6, 8, 10}\n",
        "whole_numbers.issubset(even_numbers) # False, because it is a super set\n",
        "whole_numbers.issuperset(even_numbers) # True\n",
        "\n",
        "python = {'p', 'y', 't', 'h', 'o','n'}\n",
        "dragon = {'d', 'r', 'a', 'g', 'o','n'}\n",
        "python.issubset(dragon)     # False"
      ],
      "metadata": {
        "colab": {
          "base_uri": "https://localhost:8080/"
        },
        "id": "s6fHO-2NMxaI",
        "outputId": "cc2c5016-3da5-4228-c97b-1ef31fbd98e3"
      },
      "execution_count": 39,
      "outputs": [
        {
          "output_type": "execute_result",
          "data": {
            "text/plain": [
              "False"
            ]
          },
          "metadata": {},
          "execution_count": 39
        }
      ]
    },
    {
      "cell_type": "markdown",
      "source": [
        "# Checking the Difference Between Two Sets\n",
        "It returns the difference between two sets."
      ],
      "metadata": {
        "id": "hkzn44MIM1EL"
      }
    },
    {
      "cell_type": "code",
      "source": [
        "# syntax\n",
        "st1 = {'item1', 'item2', 'item3', 'item4'}\n",
        "st2 = {'item2', 'item3'}\n",
        "st2.difference(st1) # set()\n",
        "st1.difference(st2) # {'item1', 'item4'} => st1\\st2"
      ],
      "metadata": {
        "colab": {
          "base_uri": "https://localhost:8080/"
        },
        "id": "RPKzMCIRNADu",
        "outputId": "115b8e5b-6ddd-4ebe-be5f-2e1ff1810fda"
      },
      "execution_count": 40,
      "outputs": [
        {
          "output_type": "execute_result",
          "data": {
            "text/plain": [
              "{'item1', 'item4'}"
            ]
          },
          "metadata": {},
          "execution_count": 40
        }
      ]
    },
    {
      "cell_type": "code",
      "source": [
        "whole_numbers = {0, 1, 2, 3, 4, 5, 6, 7, 8, 9, 10}\n",
        "even_numbers = {0, 2, 4, 6, 8, 10}\n",
        "whole_numbers.difference(even_numbers) # {1, 3, 5, 7, 9}\n",
        "\n",
        "python = {'p', 'y', 't', 'o','n'}\n",
        "dragon = {'d', 'r', 'a', 'g', 'o','n'}\n",
        "python.difference(dragon)     # {'p', 'y', 't'}  - the result is unordered (characteristic of sets)\n",
        "dragon.difference(python)     # {'d', 'r', 'a', 'g'}"
      ],
      "metadata": {
        "colab": {
          "base_uri": "https://localhost:8080/"
        },
        "id": "NIT3lcyKNDZf",
        "outputId": "5e0710a7-5182-4099-f5e9-1369fbeaf604"
      },
      "execution_count": 41,
      "outputs": [
        {
          "output_type": "execute_result",
          "data": {
            "text/plain": [
              "{'a', 'd', 'g', 'r'}"
            ]
          },
          "metadata": {},
          "execution_count": 41
        }
      ]
    },
    {
      "cell_type": "markdown",
      "source": [
        "# Finding Symmetric Difference Between Two Sets\n",
        "It returns the the symmetric difference between two sets. It means that it returns a set that contains all items from both sets, except items that are present in both sets, mathematically: (A\\B) ∪ (B\\A)"
      ],
      "metadata": {
        "id": "J51_hEGQNL89"
      }
    },
    {
      "cell_type": "code",
      "source": [
        "# syntax\n",
        "st1 = {'item1', 'item2', 'item3', 'item4'}\n",
        "st2 = {'item2', 'item3'}\n",
        "# it means (A\\B)∪(B\\A)\n",
        "st2.symmetric_difference(st1) # {'item1', 'item4'}"
      ],
      "metadata": {
        "colab": {
          "base_uri": "https://localhost:8080/"
        },
        "id": "y8CCwDhYNPlt",
        "outputId": "7a9af5c9-019a-4a7e-e331-32f055c8d2ea"
      },
      "execution_count": 42,
      "outputs": [
        {
          "output_type": "execute_result",
          "data": {
            "text/plain": [
              "{'item1', 'item4'}"
            ]
          },
          "metadata": {},
          "execution_count": 42
        }
      ]
    },
    {
      "cell_type": "code",
      "source": [
        "whole_numbers = {0, 1, 2, 3, 4, 5, 6, 7, 8, 9, 10}\n",
        "some_numbers = {1, 2, 3, 4, 5}\n",
        "whole_numbers.symmetric_difference(some_numbers) # {0, 6, 7, 8, 9, 10}\n",
        "\n",
        "python = {'p', 'y', 't', 'h', 'o','n'}\n",
        "dragon = {'d', 'r', 'a', 'g', 'o','n'}\n",
        "python.symmetric_difference(dragon)  # {'r', 't', 'p', 'y', 'g', 'a', 'd', 'h'}"
      ],
      "metadata": {
        "colab": {
          "base_uri": "https://localhost:8080/"
        },
        "id": "Hpv93VC2NSkI",
        "outputId": "df0fe1db-d01d-48f7-a739-3e47fc7e816e"
      },
      "execution_count": 43,
      "outputs": [
        {
          "output_type": "execute_result",
          "data": {
            "text/plain": [
              "{'a', 'd', 'g', 'h', 'p', 'r', 't', 'y'}"
            ]
          },
          "metadata": {},
          "execution_count": 43
        }
      ]
    },
    {
      "cell_type": "markdown",
      "source": [
        "# Joining Sets\n",
        "If two sets do not have a common item or items we call them disjoint sets. We can check if two sets are joint or disjoint using isdisjoint() method."
      ],
      "metadata": {
        "id": "1LJaCjvJNV4k"
      }
    },
    {
      "cell_type": "code",
      "source": [
        "# syntax\n",
        "st1 = {'item1', 'item2', 'item3', 'item4'}\n",
        "st2 = {'item2', 'item3'}\n",
        "st2.isdisjoint(st1) # False"
      ],
      "metadata": {
        "colab": {
          "base_uri": "https://localhost:8080/"
        },
        "id": "-6VQhlElNZg2",
        "outputId": "ae579c9a-c7f4-4b8b-9e3f-12f2e5238f9d"
      },
      "execution_count": 44,
      "outputs": [
        {
          "output_type": "execute_result",
          "data": {
            "text/plain": [
              "False"
            ]
          },
          "metadata": {},
          "execution_count": 44
        }
      ]
    },
    {
      "cell_type": "code",
      "source": [
        "even_numbers = {0, 2, 4, 6, 8}\n",
        "odd_numbers = {1, 3, 5, 7, 9}\n",
        "print(even_numbers.isdisjoint(odd_numbers))  # True, because no common item\n",
        "\n",
        "python = {'p', 'y', 't', 'h', 'o', 'n'}\n",
        "dragon = {'d', 'r', 'a', 'g', 'o', 'n'}\n",
        "print(python.isdisjoint(dragon))  # False, there are common items {'o', 'n'}\n"
      ],
      "metadata": {
        "colab": {
          "base_uri": "https://localhost:8080/"
        },
        "id": "CnUGD5C8Ncj4",
        "outputId": "fb827644-566b-485a-acdc-645dfbbaa539"
      },
      "execution_count": 46,
      "outputs": [
        {
          "output_type": "stream",
          "name": "stdout",
          "text": [
            "True\n",
            "False\n"
          ]
        }
      ]
    },
    {
      "cell_type": "markdown",
      "source": [
        "# Exercises: Day 7\n"
      ],
      "metadata": {
        "id": "ZvSeX-b6ORML"
      }
    },
    {
      "cell_type": "code",
      "source": [
        "# sets\n",
        "it_companies = {'Facebook', 'Google', 'Microsoft', 'Apple', 'IBM', 'Oracle', 'Amazon'}\n",
        "A = {19, 22, 24, 20, 25, 26}\n",
        "B = {19, 22, 20, 25, 26, 24, 28, 27}\n",
        "age = [22, 19, 24, 25, 26, 24, 25, 24]"
      ],
      "metadata": {
        "id": "ADRBjKLAOetW"
      },
      "execution_count": 47,
      "outputs": []
    },
    {
      "cell_type": "markdown",
      "source": [
        "# Exercises: Level 1"
      ],
      "metadata": {
        "id": "MP7UJ5uROjAU"
      }
    },
    {
      "cell_type": "code",
      "source": [
        "# Find the length of the set it_companies\n",
        "it_companies = {'Facebook', 'Google', 'Microsoft', 'Apple', 'IBM', 'Oracle', 'Amazon'}\n",
        "length = len(it_companies)\n",
        "print(length)\n"
      ],
      "metadata": {
        "colab": {
          "base_uri": "https://localhost:8080/"
        },
        "id": "eyPJ9a9TOu4Y",
        "outputId": "d27bf84d-76a6-49d5-f965-8f1ff63aeef2"
      },
      "execution_count": 49,
      "outputs": [
        {
          "output_type": "stream",
          "name": "stdout",
          "text": [
            "7\n"
          ]
        }
      ]
    },
    {
      "cell_type": "code",
      "source": [
        "# Add 'Twitter' to it_companies\n",
        "\n",
        "it_companies = {'Facebook', 'Google', 'Microsoft', 'Apple', 'IBM', 'Oracle', 'Amazon'}\n",
        "it_companies.add('Twitter')\n",
        "print(it_companies)\n"
      ],
      "metadata": {
        "colab": {
          "base_uri": "https://localhost:8080/"
        },
        "id": "vK1rc_5xPd4S",
        "outputId": "a224ca69-1d9b-469b-8e8f-04cc6f544329"
      },
      "execution_count": 51,
      "outputs": [
        {
          "output_type": "stream",
          "name": "stdout",
          "text": [
            "{'Facebook', 'Twitter', 'Microsoft', 'Apple', 'IBM', 'Google', 'Amazon', 'Oracle'}\n"
          ]
        }
      ]
    },
    {
      "cell_type": "code",
      "source": [
        "# Insert multiple IT companies at once to the set it_companies\n",
        "it_companies = {'Facebook', 'Google', 'Microsoft', 'Apple', 'IBM', 'Oracle', 'Amazon'}\n",
        "new_companies = {'Twitter', 'LinkedIn', 'Adobe'}\n",
        "it_companies.update(new_companies)\n",
        "print(it_companies)\n"
      ],
      "metadata": {
        "colab": {
          "base_uri": "https://localhost:8080/"
        },
        "id": "WK5gb9DARUnp",
        "outputId": "fb81b577-7ccf-452b-cbb2-c7e16814c9a7"
      },
      "execution_count": 52,
      "outputs": [
        {
          "output_type": "stream",
          "name": "stdout",
          "text": [
            "{'Facebook', 'Twitter', 'Microsoft', 'Apple', 'IBM', 'Google', 'LinkedIn', 'Adobe', 'Amazon', 'Oracle'}\n"
          ]
        }
      ]
    },
    {
      "cell_type": "code",
      "source": [
        "# Remove one of the companies from the set it_companies\n",
        "\n",
        "it_companies = {'Facebook', 'Google', 'Microsoft', 'Apple', 'IBM', 'Oracle', 'Amazon'}\n",
        "it_companies.remove('Oracle')\n",
        "print(it_companies)\n"
      ],
      "metadata": {
        "colab": {
          "base_uri": "https://localhost:8080/"
        },
        "id": "6d7RGB8iSjEw",
        "outputId": "5ebb080c-4435-4923-8de2-8ca7e0f4d02b"
      },
      "execution_count": 53,
      "outputs": [
        {
          "output_type": "stream",
          "name": "stdout",
          "text": [
            "{'Facebook', 'Microsoft', 'Apple', 'IBM', 'Google', 'Amazon'}\n"
          ]
        }
      ]
    },
    {
      "cell_type": "markdown",
      "source": [
        "# What is the difference between remove and discard\n",
        "\n",
        "The difference between the remove() and discard() methods in Python sets is their behavior when the element to be removed is not found in the set:\n",
        "\n",
        "remove(element): Removes the specified element from the set. If the element is not found in the set, it raises a KeyError exception.\n",
        "\n",
        "discard(element): Removes the specified element from the set if it is present. If the element is not found in the set, it does nothing and does not raise any error."
      ],
      "metadata": {
        "id": "3NZu7F9vTgLC"
      }
    },
    {
      "cell_type": "markdown",
      "source": [
        "# Exercises: Level 2"
      ],
      "metadata": {
        "id": "6ZF0PmC9TqTo"
      }
    },
    {
      "cell_type": "code",
      "source": [
        "# Join A and B\n",
        "A = {19, 22, 24, 20, 25, 26}\n",
        "B = {19, 22, 20, 25, 26, 24, 28, 27}\n",
        "\n",
        "# Using the union() method\n",
        "union_set = A.union(B)\n",
        "print(union_set)  # Output: {19, 20, 22, 24, 25, 26, 27, 28}\n",
        "\n",
        "# Using the | operator\n",
        "union_set_operator = A | B\n",
        "print(union_set_operator)  # Output: {19, 20, 22, 24, 25, 26, 27, 28}\n"
      ],
      "metadata": {
        "colab": {
          "base_uri": "https://localhost:8080/"
        },
        "id": "r3zp-bODUYmb",
        "outputId": "909e247b-6451-40c1-f9c3-983399613135"
      },
      "execution_count": 54,
      "outputs": [
        {
          "output_type": "stream",
          "name": "stdout",
          "text": [
            "{19, 20, 22, 24, 25, 26, 27, 28}\n",
            "{19, 20, 22, 24, 25, 26, 27, 28}\n"
          ]
        }
      ]
    },
    {
      "cell_type": "code",
      "source": [
        "# Find A intersection B\n",
        "\n",
        "A = {19, 22, 24, 20, 25, 26}\n",
        "B = {19, 22, 20, 25, 26, 24, 28, 27}\n",
        "\n",
        "# Using the intersection() method\n",
        "intersection_set = A.intersection(B)\n",
        "print(intersection_set)  # Output: {19, 20, 22, 24, 25, 26}\n",
        "\n",
        "# Using the & operator\n",
        "intersection_set_operator = A & B\n",
        "print(intersection_set_operator)  # Output: {19, 20, 22, 24, 25, 26}\n"
      ],
      "metadata": {
        "colab": {
          "base_uri": "https://localhost:8080/"
        },
        "id": "ev_LHUZ6VPwl",
        "outputId": "9d479fab-c621-4cde-d4ff-0617fa854c28"
      },
      "execution_count": 55,
      "outputs": [
        {
          "output_type": "stream",
          "name": "stdout",
          "text": [
            "{19, 20, 22, 24, 25, 26}\n",
            "{19, 20, 22, 24, 25, 26}\n"
          ]
        }
      ]
    },
    {
      "cell_type": "code",
      "source": [
        "# Is A subset of B\n",
        "\n",
        "A = {19, 22, 24, 20, 25, 26}\n",
        "B = {19, 22, 20, 25, 26, 24, 28, 27}\n",
        "\n",
        "# Using the issubset() method\n",
        "is_subset = A.issubset(B)\n",
        "print(is_subset)  # Output: True\n",
        "\n",
        "# Using the <= operator\n",
        "is_subset_operator = A <= B\n",
        "print(is_subset_operator)  # Output: True\n"
      ],
      "metadata": {
        "colab": {
          "base_uri": "https://localhost:8080/"
        },
        "id": "f6XwsIkIVVZF",
        "outputId": "1224b549-d31f-41e4-985d-c4641a6e9630"
      },
      "execution_count": 56,
      "outputs": [
        {
          "output_type": "stream",
          "name": "stdout",
          "text": [
            "True\n",
            "True\n"
          ]
        }
      ]
    },
    {
      "cell_type": "code",
      "source": [
        "# Are A and B disjoint sets\n",
        "A = {19, 22, 24, 20, 25, 26}\n",
        "B = {19, 22, 20, 25, 26, 24, 28, 27}\n",
        "\n",
        "are_disjoint = A.isdisjoint(B)\n",
        "print(are_disjoint)  # Output: False\n"
      ],
      "metadata": {
        "colab": {
          "base_uri": "https://localhost:8080/"
        },
        "id": "a071GctUVj7Y",
        "outputId": "ad97c546-5217-4690-aacf-8762b72e81d5"
      },
      "execution_count": 57,
      "outputs": [
        {
          "output_type": "stream",
          "name": "stdout",
          "text": [
            "False\n"
          ]
        }
      ]
    },
    {
      "cell_type": "code",
      "source": [
        "# Join A with B and B with A\n",
        "\n",
        "\n",
        "A = {19, 22, 24, 20, 25, 26}\n",
        "B = {19, 22, 20, 25, 26, 24, 28, 27}\n",
        "\n",
        "# Joining A with B\n",
        "union_A_with_B = A.union(B)\n",
        "print(union_A_with_B)  # Output: {19, 20, 22, 24, 25, 26, 27, 28}\n",
        "\n",
        "# Joining B with A\n",
        "union_B_with_A = B.union(A)\n",
        "print(union_B_with_A)  # Output: {19, 20, 22, 24, 25, 26, 27, 28}\n"
      ],
      "metadata": {
        "colab": {
          "base_uri": "https://localhost:8080/"
        },
        "id": "XqNBX-dlVul1",
        "outputId": "76e0578c-faaf-4970-ef47-1a7ee70f6010"
      },
      "execution_count": 58,
      "outputs": [
        {
          "output_type": "stream",
          "name": "stdout",
          "text": [
            "{19, 20, 22, 24, 25, 26, 27, 28}\n",
            "{19, 20, 22, 24, 25, 26, 27, 28}\n"
          ]
        }
      ]
    },
    {
      "cell_type": "code",
      "source": [
        "# What is the symmetric difference between A and B\n",
        "\n",
        "\n",
        "A = {19, 22, 24, 20, 25, 26}\n",
        "B = {19, 22, 20, 25, 26, 24, 28, 27}\n",
        "\n",
        "# Using the symmetric_difference() method\n",
        "sym_diff_method = A.symmetric_difference(B)\n",
        "print(sym_diff_method)  # Output: {27, 28}\n",
        "\n",
        "# Using the ^ operator\n",
        "sym_diff_operator = A ^ B\n",
        "print(sym_diff_operator)  # Output: {27, 28}\n"
      ],
      "metadata": {
        "colab": {
          "base_uri": "https://localhost:8080/"
        },
        "id": "JfHKQpDHWEsx",
        "outputId": "66a05b40-141d-4288-9177-9f5d554082c8"
      },
      "execution_count": 59,
      "outputs": [
        {
          "output_type": "stream",
          "name": "stdout",
          "text": [
            "{27, 28}\n",
            "{27, 28}\n"
          ]
        }
      ]
    }
  ]
}